{
 "cells": [
  {
   "cell_type": "code",
   "execution_count": 1,
   "id": "fe553807",
   "metadata": {},
   "outputs": [
    {
     "name": "stdout",
     "output_type": "stream",
     "text": [
      "0\n",
      "1\n",
      "2\n",
      "3\n",
      "4\n"
     ]
    }
   ],
   "source": [
    "a = 0\n",
    "while a < 10:\n",
    "    if a == 5:\n",
    "        break\n",
    "    print(a)\n",
    "    a = a + 1"
   ]
  },
  {
   "cell_type": "code",
   "execution_count": 1,
   "id": "377ba345",
   "metadata": {},
   "outputs": [
    {
     "name": "stdout",
     "output_type": "stream",
     "text": [
      "0\n",
      "1\n",
      "2\n",
      "3\n",
      "4\n",
      "6\n",
      "7\n",
      "8\n",
      "9\n"
     ]
    }
   ],
   "source": [
    "a = 0\n",
    "while a < 10:\n",
    "    if a == 5:\n",
    "        a = a + 1\n",
    "        continue\n",
    "    print(a)\n",
    "    a = a + 1\n",
    "   "
   ]
  },
  {
   "cell_type": "code",
   "execution_count": 5,
   "id": "44e3cb81",
   "metadata": {},
   "outputs": [
    {
     "name": "stdout",
     "output_type": "stream",
     "text": [
      "sheisfine"
     ]
    }
   ],
   "source": [
    "a = 0\n",
    "b = \"she is fine\"\n",
    "while a < len(b):\n",
    "    if b[a] == \" \":\n",
    "        a = a + 1\n",
    "        continue\n",
    "    print(b[a], end = \"\")\n",
    "    a = a + 1"
   ]
  },
  {
   "cell_type": "code",
   "execution_count": 1,
   "id": "451f9fab",
   "metadata": {},
   "outputs": [
    {
     "name": "stdout",
     "output_type": "stream",
     "text": [
      "5\n",
      "10\n",
      "15\n",
      "20\n",
      "25\n",
      "30\n",
      "35\n",
      "40\n",
      "45\n",
      "50\n"
     ]
    }
   ],
   "source": [
    "i = 1\n",
    "n = 5\n",
    "while i <= 50:\n",
    "    if i%5 != 0:\n",
    "        i = i + 1\n",
    "        continue\n",
    "    print(i)\n",
    "    i = i + 1"
   ]
  },
  {
   "cell_type": "code",
   "execution_count": null,
   "id": "d1dc385f",
   "metadata": {},
   "outputs": [
    {
     "name": "stdout",
     "output_type": "stream",
     "text": [
      "Enter a number:6\n"
     ]
    }
   ],
   "source": [
    "i = 1\n",
    "n = int(input(\"Enter a number:\"))\n",
    "while i <= n*10:\n",
    "    if i%n != 0:\n",
    "        i = i + 1\n",
    "        continue\n",
    "        \n",
    "    print(i)\n",
    "    i = i + 1"
   ]
  },
  {
   "cell_type": "code",
   "execution_count": 26,
   "id": "7dfeb3fb",
   "metadata": {},
   "outputs": [
    {
     "name": "stdout",
     "output_type": "stream",
     "text": [
      "Enter a number9\n",
      "Prime\n"
     ]
    }
   ],
   "source": [
    "# n = int(input(\"Enter a number\"))\n",
    "# i = 2\n",
    "# while i < n:\n",
    "#     b = n%i\n",
    "#     if b != 0:\n",
    "#         print(\"Prime\")\n",
    "#         break\n",
    "#     else:\n",
    "#         print(\"Composite\")\n",
    "#         break\n",
    "#     i = i + 1"
   ]
  },
  {
   "cell_type": "code",
   "execution_count": 30,
   "id": "7e12556d",
   "metadata": {},
   "outputs": [
    {
     "name": "stdout",
     "output_type": "stream",
     "text": [
      "Enter a number: 45\n",
      "Composite\n"
     ]
    }
   ],
   "source": [
    "n = int(input(\"Enter a number: \"))\n",
    "for i in range(2,n):\n",
    "    if n%i == 0:\n",
    "        print(\"Composite\")\n",
    "        break\n",
    "else:\n",
    "    print(\"Prime\")"
   ]
  },
  {
   "cell_type": "code",
   "execution_count": 31,
   "id": "78d3ff31",
   "metadata": {},
   "outputs": [
    {
     "name": "stdout",
     "output_type": "stream",
     "text": [
      "Enter a number: 45\n",
      "Composite\n"
     ]
    }
   ],
   "source": [
    "n = int(input(\"Enter a number: \"))\n",
    "for i in range(2,n//2):\n",
    "    if n%i == 0:\n",
    "        print(\"Composite\")\n",
    "        break\n",
    "else:\n",
    "    print(\"Prime\")"
   ]
  },
  {
   "cell_type": "code",
   "execution_count": 42,
   "id": "0a91a380",
   "metadata": {},
   "outputs": [
    {
     "name": "stdout",
     "output_type": "stream",
     "text": [
      "Enter a range 4\n",
      "1\n",
      "1\n",
      "1\n",
      "1\n"
     ]
    }
   ],
   "source": [
    "a = 0\n",
    "b = 1\n",
    "c = a + b\n",
    "n = int(input(\"Enter a range \"))\n",
    "for i in range (n):\n",
    "    print(c)\n",
    "a = int(b)\n",
    "b = int(c)"
   ]
  },
  {
   "cell_type": "code",
   "execution_count": 38,
   "id": "fbdd2959",
   "metadata": {},
   "outputs": [
    {
     "name": "stdout",
     "output_type": "stream",
     "text": [
      "\n",
      "*\n",
      "**\n",
      "***\n",
      "****\n",
      "*****\n",
      "******\n",
      "*******\n",
      "********\n",
      "*********\n"
     ]
    }
   ],
   "source": [
    "for i in range(10):\n",
    "    print(i*\"*\")"
   ]
  },
  {
   "cell_type": "code",
   "execution_count": 39,
   "id": "bf8bfecb",
   "metadata": {},
   "outputs": [],
   "source": [
    "#nested for"
   ]
  },
  {
   "cell_type": "code",
   "execution_count": 41,
   "id": "8e8bcf52",
   "metadata": {},
   "outputs": [
    {
     "name": "stdout",
     "output_type": "stream",
     "text": [
      "0 0\n",
      "0 1\n",
      "0 2\n",
      "0 3\n",
      "0 4\n",
      "1 0\n",
      "1 1\n",
      "1 2\n",
      "1 3\n",
      "1 4\n",
      "2 0\n",
      "2 1\n",
      "2 2\n",
      "2 3\n",
      "2 4\n",
      "3 0\n",
      "3 1\n",
      "3 2\n",
      "3 3\n",
      "3 4\n",
      "4 0\n",
      "4 1\n",
      "4 2\n",
      "4 3\n",
      "4 4\n"
     ]
    }
   ],
   "source": [
    "for i in range (5):\n",
    "    for j in range(5):\n",
    "        print(i,j)\n",
    "    "
   ]
  },
  {
   "cell_type": "code",
   "execution_count": 44,
   "id": "7e1a5752",
   "metadata": {},
   "outputs": [
    {
     "name": "stdout",
     "output_type": "stream",
     "text": [
      "ENter\n"
     ]
    }
   ],
   "source": []
  },
  {
   "cell_type": "code",
   "execution_count": null,
   "id": "94d8e900",
   "metadata": {},
   "outputs": [],
   "source": []
  }
 ],
 "metadata": {
  "kernelspec": {
   "display_name": "Python 3 (ipykernel)",
   "language": "python",
   "name": "python3"
  },
  "language_info": {
   "codemirror_mode": {
    "name": "ipython",
    "version": 3
   },
   "file_extension": ".py",
   "mimetype": "text/x-python",
   "name": "python",
   "nbconvert_exporter": "python",
   "pygments_lexer": "ipython3",
   "version": "3.9.7"
  }
 },
 "nbformat": 4,
 "nbformat_minor": 5
}
