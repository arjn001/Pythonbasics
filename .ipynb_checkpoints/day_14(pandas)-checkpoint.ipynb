{
 "cells": [
  {
   "cell_type": "code",
   "execution_count": 1,
   "id": "79187b09",
   "metadata": {},
   "outputs": [],
   "source": [
    "try:\n",
    "    b = open('data.csv','x')\n",
    "    b.close()\n",
    "except:\n",
    "    print(\"File already exists\")"
   ]
  },
  {
   "cell_type": "code",
   "execution_count": 6,
   "id": "b5cfe46d",
   "metadata": {},
   "outputs": [
    {
     "data": {
      "text/html": [
       "<div>\n",
       "<style scoped>\n",
       "    .dataframe tbody tr th:only-of-type {\n",
       "        vertical-align: middle;\n",
       "    }\n",
       "\n",
       "    .dataframe tbody tr th {\n",
       "        vertical-align: top;\n",
       "    }\n",
       "\n",
       "    .dataframe thead th {\n",
       "        text-align: right;\n",
       "    }\n",
       "</style>\n",
       "<table border=\"1\" class=\"dataframe\">\n",
       "  <thead>\n",
       "    <tr style=\"text-align: right;\">\n",
       "      <th></th>\n",
       "      <th>SN</th>\n",
       "      <th>Name</th>\n",
       "      <th>Age</th>\n",
       "      <th>Address</th>\n",
       "      <th>Phone</th>\n",
       "    </tr>\n",
       "  </thead>\n",
       "  <tbody>\n",
       "    <tr>\n",
       "      <th>0</th>\n",
       "      <td>1</td>\n",
       "      <td>Arjun</td>\n",
       "      <td>18</td>\n",
       "      <td>Gulmi</td>\n",
       "      <td>908876786</td>\n",
       "    </tr>\n",
       "    <tr>\n",
       "      <th>1</th>\n",
       "      <td>2</td>\n",
       "      <td>Shyam</td>\n",
       "      <td>20</td>\n",
       "      <td>Kathmandu</td>\n",
       "      <td>9798798</td>\n",
       "    </tr>\n",
       "    <tr>\n",
       "      <th>2</th>\n",
       "      <td>3</td>\n",
       "      <td>Sita</td>\n",
       "      <td>23</td>\n",
       "      <td>Sunsari</td>\n",
       "      <td>909779798798</td>\n",
       "    </tr>\n",
       "    <tr>\n",
       "      <th>3</th>\n",
       "      <td>4</td>\n",
       "      <td>Rohan</td>\n",
       "      <td>24</td>\n",
       "      <td>Chitwan</td>\n",
       "      <td>8980980090</td>\n",
       "    </tr>\n",
       "    <tr>\n",
       "      <th>4</th>\n",
       "      <td>5</td>\n",
       "      <td>Rita</td>\n",
       "      <td>21</td>\n",
       "      <td>Dharan</td>\n",
       "      <td>9878908890</td>\n",
       "    </tr>\n",
       "  </tbody>\n",
       "</table>\n",
       "</div>"
      ],
      "text/plain": [
       "   SN   Name  Age    Address         Phone\n",
       "0   1  Arjun   18      Gulmi     908876786\n",
       "1   2  Shyam   20  Kathmandu       9798798\n",
       "2   3   Sita   23    Sunsari  909779798798\n",
       "3   4  Rohan   24    Chitwan    8980980090\n",
       "4   5   Rita   21     Dharan    9878908890"
      ]
     },
     "execution_count": 6,
     "metadata": {},
     "output_type": "execute_result"
    }
   ],
   "source": [
    "import pandas as pd\n",
    "df = pd.read_csv('data.csv') \n",
    "df"
   ]
  },
  {
   "cell_type": "code",
   "execution_count": 5,
   "id": "e7e680b4",
   "metadata": {},
   "outputs": [
    {
     "data": {
      "text/html": [
       "<div>\n",
       "<style scoped>\n",
       "    .dataframe tbody tr th:only-of-type {\n",
       "        vertical-align: middle;\n",
       "    }\n",
       "\n",
       "    .dataframe tbody tr th {\n",
       "        vertical-align: top;\n",
       "    }\n",
       "\n",
       "    .dataframe thead th {\n",
       "        text-align: right;\n",
       "    }\n",
       "</style>\n",
       "<table border=\"1\" class=\"dataframe\">\n",
       "  <thead>\n",
       "    <tr style=\"text-align: right;\">\n",
       "      <th></th>\n",
       "      <th>Name</th>\n",
       "      <th>Age</th>\n",
       "      <th>Address</th>\n",
       "      <th>Phone</th>\n",
       "    </tr>\n",
       "    <tr>\n",
       "      <th>SN</th>\n",
       "      <th></th>\n",
       "      <th></th>\n",
       "      <th></th>\n",
       "      <th></th>\n",
       "    </tr>\n",
       "  </thead>\n",
       "  <tbody>\n",
       "    <tr>\n",
       "      <th>1</th>\n",
       "      <td>Arjun</td>\n",
       "      <td>18</td>\n",
       "      <td>Gulmi</td>\n",
       "      <td>908876786</td>\n",
       "    </tr>\n",
       "    <tr>\n",
       "      <th>2</th>\n",
       "      <td>Shyam</td>\n",
       "      <td>20</td>\n",
       "      <td>Kathmandu</td>\n",
       "      <td>9798798</td>\n",
       "    </tr>\n",
       "    <tr>\n",
       "      <th>3</th>\n",
       "      <td>Sita</td>\n",
       "      <td>23</td>\n",
       "      <td>Sunsari</td>\n",
       "      <td>909779798798</td>\n",
       "    </tr>\n",
       "    <tr>\n",
       "      <th>4</th>\n",
       "      <td>Rohan</td>\n",
       "      <td>24</td>\n",
       "      <td>Chitwan</td>\n",
       "      <td>8980980090</td>\n",
       "    </tr>\n",
       "    <tr>\n",
       "      <th>5</th>\n",
       "      <td>Rita</td>\n",
       "      <td>21</td>\n",
       "      <td>Dharan</td>\n",
       "      <td>9878908890</td>\n",
       "    </tr>\n",
       "  </tbody>\n",
       "</table>\n",
       "</div>"
      ],
      "text/plain": [
       "     Name  Age    Address         Phone\n",
       "SN                                     \n",
       "1   Arjun   18      Gulmi     908876786\n",
       "2   Shyam   20  Kathmandu       9798798\n",
       "3    Sita   23    Sunsari  909779798798\n",
       "4   Rohan   24    Chitwan    8980980090\n",
       "5    Rita   21     Dharan    9878908890"
      ]
     },
     "execution_count": 5,
     "metadata": {},
     "output_type": "execute_result"
    }
   ],
   "source": [
    "import pandas as pd\n",
    "df = pd.read_csv('data.csv',index_col='SN') \n",
    "df"
   ]
  },
  {
   "cell_type": "code",
   "execution_count": 8,
   "id": "f71aa766",
   "metadata": {},
   "outputs": [
    {
     "name": "stdout",
     "output_type": "stream",
     "text": [
      "   SN   Name  Age    Address         Phone\n",
      "0   1  Arjun   18      Gulmi     908876786\n",
      "1   2  Shyam   20  Kathmandu       9798798\n",
      "2   3   Sita   23    Sunsari  909779798798\n",
      "3   4  Rohan   24    Chitwan    8980980090\n",
      "4   5   Rita   21     Dharan    9878908890\n"
     ]
    }
   ],
   "source": [
    "print (df)"
   ]
  },
  {
   "cell_type": "code",
   "execution_count": 9,
   "id": "a186370f",
   "metadata": {},
   "outputs": [
    {
     "name": "stdout",
     "output_type": "stream",
     "text": [
      "     Name  Age    Address         Phone\n",
      "SN                                     \n",
      "1   Arjun   18      Gulmi     908876786\n",
      "2   Shyam   20  Kathmandu       9798798\n",
      "3    Sita   23    Sunsari  909779798798\n",
      "4   Rohan   24    Chitwan    8980980090\n",
      "5    Rita   21     Dharan    9878908890\n"
     ]
    }
   ],
   "source": [
    "import pandas as pd\n",
    "df = pd.read_csv('data.csv',index_col='SN') \n",
    "print(df)"
   ]
  },
  {
   "cell_type": "code",
   "execution_count": 10,
   "id": "e771a630",
   "metadata": {},
   "outputs": [
    {
     "data": {
      "text/html": [
       "<div>\n",
       "<style scoped>\n",
       "    .dataframe tbody tr th:only-of-type {\n",
       "        vertical-align: middle;\n",
       "    }\n",
       "\n",
       "    .dataframe tbody tr th {\n",
       "        vertical-align: top;\n",
       "    }\n",
       "\n",
       "    .dataframe thead th {\n",
       "        text-align: right;\n",
       "    }\n",
       "</style>\n",
       "<table border=\"1\" class=\"dataframe\">\n",
       "  <thead>\n",
       "    <tr style=\"text-align: right;\">\n",
       "      <th></th>\n",
       "      <th>Name</th>\n",
       "      <th>Age</th>\n",
       "      <th>Address</th>\n",
       "      <th>Phone</th>\n",
       "    </tr>\n",
       "    <tr>\n",
       "      <th>SN</th>\n",
       "      <th></th>\n",
       "      <th></th>\n",
       "      <th></th>\n",
       "      <th></th>\n",
       "    </tr>\n",
       "  </thead>\n",
       "  <tbody>\n",
       "    <tr>\n",
       "      <th>1</th>\n",
       "      <td>Arjun</td>\n",
       "      <td>18</td>\n",
       "      <td>Gulmi</td>\n",
       "      <td>908876786</td>\n",
       "    </tr>\n",
       "    <tr>\n",
       "      <th>2</th>\n",
       "      <td>Shyam</td>\n",
       "      <td>20</td>\n",
       "      <td>Kathmandu</td>\n",
       "      <td>9798798</td>\n",
       "    </tr>\n",
       "    <tr>\n",
       "      <th>3</th>\n",
       "      <td>Sita</td>\n",
       "      <td>23</td>\n",
       "      <td>Sunsari</td>\n",
       "      <td>909779798798</td>\n",
       "    </tr>\n",
       "    <tr>\n",
       "      <th>4</th>\n",
       "      <td>Rohan</td>\n",
       "      <td>24</td>\n",
       "      <td>Chitwan</td>\n",
       "      <td>8980980090</td>\n",
       "    </tr>\n",
       "    <tr>\n",
       "      <th>5</th>\n",
       "      <td>Rita</td>\n",
       "      <td>21</td>\n",
       "      <td>Dharan</td>\n",
       "      <td>9878908890</td>\n",
       "    </tr>\n",
       "  </tbody>\n",
       "</table>\n",
       "</div>"
      ],
      "text/plain": [
       "     Name  Age    Address         Phone\n",
       "SN                                     \n",
       "1   Arjun   18      Gulmi     908876786\n",
       "2   Shyam   20  Kathmandu       9798798\n",
       "3    Sita   23    Sunsari  909779798798\n",
       "4   Rohan   24    Chitwan    8980980090\n",
       "5    Rita   21     Dharan    9878908890"
      ]
     },
     "execution_count": 10,
     "metadata": {},
     "output_type": "execute_result"
    }
   ],
   "source": [
    "df = pd.read_csv('data.csv',index_col='SN')\n",
    "df.head()  #prints 5  data from the top"
   ]
  },
  {
   "cell_type": "code",
   "execution_count": 11,
   "id": "5289e4b1",
   "metadata": {},
   "outputs": [
    {
     "data": {
      "text/html": [
       "<div>\n",
       "<style scoped>\n",
       "    .dataframe tbody tr th:only-of-type {\n",
       "        vertical-align: middle;\n",
       "    }\n",
       "\n",
       "    .dataframe tbody tr th {\n",
       "        vertical-align: top;\n",
       "    }\n",
       "\n",
       "    .dataframe thead th {\n",
       "        text-align: right;\n",
       "    }\n",
       "</style>\n",
       "<table border=\"1\" class=\"dataframe\">\n",
       "  <thead>\n",
       "    <tr style=\"text-align: right;\">\n",
       "      <th></th>\n",
       "      <th>Name</th>\n",
       "      <th>Age</th>\n",
       "      <th>Address</th>\n",
       "      <th>Phone</th>\n",
       "    </tr>\n",
       "    <tr>\n",
       "      <th>SN</th>\n",
       "      <th></th>\n",
       "      <th></th>\n",
       "      <th></th>\n",
       "      <th></th>\n",
       "    </tr>\n",
       "  </thead>\n",
       "  <tbody>\n",
       "    <tr>\n",
       "      <th>1</th>\n",
       "      <td>Arjun</td>\n",
       "      <td>18</td>\n",
       "      <td>Gulmi</td>\n",
       "      <td>908876786</td>\n",
       "    </tr>\n",
       "    <tr>\n",
       "      <th>2</th>\n",
       "      <td>Shyam</td>\n",
       "      <td>20</td>\n",
       "      <td>Kathmandu</td>\n",
       "      <td>9798798</td>\n",
       "    </tr>\n",
       "  </tbody>\n",
       "</table>\n",
       "</div>"
      ],
      "text/plain": [
       "     Name  Age    Address      Phone\n",
       "SN                                  \n",
       "1   Arjun   18      Gulmi  908876786\n",
       "2   Shyam   20  Kathmandu    9798798"
      ]
     },
     "execution_count": 11,
     "metadata": {},
     "output_type": "execute_result"
    }
   ],
   "source": [
    "df = pd.read_csv('data.csv',index_col='SN')\n",
    "df.head(2)"
   ]
  },
  {
   "cell_type": "code",
   "execution_count": 12,
   "id": "59de2e4f",
   "metadata": {},
   "outputs": [
    {
     "data": {
      "text/html": [
       "<div>\n",
       "<style scoped>\n",
       "    .dataframe tbody tr th:only-of-type {\n",
       "        vertical-align: middle;\n",
       "    }\n",
       "\n",
       "    .dataframe tbody tr th {\n",
       "        vertical-align: top;\n",
       "    }\n",
       "\n",
       "    .dataframe thead th {\n",
       "        text-align: right;\n",
       "    }\n",
       "</style>\n",
       "<table border=\"1\" class=\"dataframe\">\n",
       "  <thead>\n",
       "    <tr style=\"text-align: right;\">\n",
       "      <th></th>\n",
       "      <th>Name</th>\n",
       "      <th>Age</th>\n",
       "      <th>Address</th>\n",
       "      <th>Phone</th>\n",
       "    </tr>\n",
       "    <tr>\n",
       "      <th>SN</th>\n",
       "      <th></th>\n",
       "      <th></th>\n",
       "      <th></th>\n",
       "      <th></th>\n",
       "    </tr>\n",
       "  </thead>\n",
       "  <tbody>\n",
       "    <tr>\n",
       "      <th>2</th>\n",
       "      <td>Shyam</td>\n",
       "      <td>20</td>\n",
       "      <td>Kathmandu</td>\n",
       "      <td>9798798</td>\n",
       "    </tr>\n",
       "    <tr>\n",
       "      <th>3</th>\n",
       "      <td>Sita</td>\n",
       "      <td>23</td>\n",
       "      <td>Sunsari</td>\n",
       "      <td>909779798798</td>\n",
       "    </tr>\n",
       "    <tr>\n",
       "      <th>4</th>\n",
       "      <td>Rohan</td>\n",
       "      <td>24</td>\n",
       "      <td>Chitwan</td>\n",
       "      <td>8980980090</td>\n",
       "    </tr>\n",
       "    <tr>\n",
       "      <th>5</th>\n",
       "      <td>Rita</td>\n",
       "      <td>21</td>\n",
       "      <td>Dharan</td>\n",
       "      <td>9878908890</td>\n",
       "    </tr>\n",
       "    <tr>\n",
       "      <th>6</th>\n",
       "      <td>Sabin</td>\n",
       "      <td>21</td>\n",
       "      <td>Kailali</td>\n",
       "      <td>90989897</td>\n",
       "    </tr>\n",
       "  </tbody>\n",
       "</table>\n",
       "</div>"
      ],
      "text/plain": [
       "     Name  Age    Address         Phone\n",
       "SN                                     \n",
       "2   Shyam   20  Kathmandu       9798798\n",
       "3    Sita   23    Sunsari  909779798798\n",
       "4   Rohan   24    Chitwan    8980980090\n",
       "5    Rita   21     Dharan    9878908890\n",
       "6   Sabin   21    Kailali      90989897"
      ]
     },
     "execution_count": 12,
     "metadata": {},
     "output_type": "execute_result"
    }
   ],
   "source": [
    "df = pd.read_csv('data.csv',index_col='SN')\n",
    "df.tail() #prints 5 data from the last"
   ]
  },
  {
   "cell_type": "code",
   "execution_count": 16,
   "id": "ea2cb629",
   "metadata": {},
   "outputs": [
    {
     "data": {
      "text/html": [
       "<div>\n",
       "<style scoped>\n",
       "    .dataframe tbody tr th:only-of-type {\n",
       "        vertical-align: middle;\n",
       "    }\n",
       "\n",
       "    .dataframe tbody tr th {\n",
       "        vertical-align: top;\n",
       "    }\n",
       "\n",
       "    .dataframe thead th {\n",
       "        text-align: right;\n",
       "    }\n",
       "</style>\n",
       "<table border=\"1\" class=\"dataframe\">\n",
       "  <thead>\n",
       "    <tr style=\"text-align: right;\">\n",
       "      <th></th>\n",
       "      <th>Name</th>\n",
       "      <th>Age</th>\n",
       "      <th>Address</th>\n",
       "      <th>Phone</th>\n",
       "    </tr>\n",
       "    <tr>\n",
       "      <th>SN</th>\n",
       "      <th></th>\n",
       "      <th></th>\n",
       "      <th></th>\n",
       "      <th></th>\n",
       "    </tr>\n",
       "  </thead>\n",
       "  <tbody>\n",
       "    <tr>\n",
       "      <th>3</th>\n",
       "      <td>Sita</td>\n",
       "      <td>23</td>\n",
       "      <td>Sunsari</td>\n",
       "      <td>909779798798</td>\n",
       "    </tr>\n",
       "    <tr>\n",
       "      <th>4</th>\n",
       "      <td>Rohan</td>\n",
       "      <td>24</td>\n",
       "      <td>Chitwan</td>\n",
       "      <td>8980980090</td>\n",
       "    </tr>\n",
       "  </tbody>\n",
       "</table>\n",
       "</div>"
      ],
      "text/plain": [
       "     Name  Age  Address         Phone\n",
       "SN                                   \n",
       "3    Sita   23  Sunsari  909779798798\n",
       "4   Rohan   24  Chitwan    8980980090"
      ]
     },
     "execution_count": 16,
     "metadata": {},
     "output_type": "execute_result"
    }
   ],
   "source": [
    "#printing required  lines of data\n",
    "df = pd.read_csv('data.csv',index_col='SN')\n",
    "df.iloc[2:4]"
   ]
  },
  {
   "cell_type": "code",
   "execution_count": 15,
   "id": "2ec81f32",
   "metadata": {},
   "outputs": [
    {
     "data": {
      "text/html": [
       "<div>\n",
       "<style scoped>\n",
       "    .dataframe tbody tr th:only-of-type {\n",
       "        vertical-align: middle;\n",
       "    }\n",
       "\n",
       "    .dataframe tbody tr th {\n",
       "        vertical-align: top;\n",
       "    }\n",
       "\n",
       "    .dataframe thead th {\n",
       "        text-align: right;\n",
       "    }\n",
       "</style>\n",
       "<table border=\"1\" class=\"dataframe\">\n",
       "  <thead>\n",
       "    <tr style=\"text-align: right;\">\n",
       "      <th></th>\n",
       "      <th>Name</th>\n",
       "      <th>Age</th>\n",
       "      <th>Address</th>\n",
       "      <th>Phone</th>\n",
       "    </tr>\n",
       "    <tr>\n",
       "      <th>SN</th>\n",
       "      <th></th>\n",
       "      <th></th>\n",
       "      <th></th>\n",
       "      <th></th>\n",
       "    </tr>\n",
       "  </thead>\n",
       "  <tbody>\n",
       "    <tr>\n",
       "      <th>2</th>\n",
       "      <td>Shyam</td>\n",
       "      <td>20</td>\n",
       "      <td>Kathmandu</td>\n",
       "      <td>9798798</td>\n",
       "    </tr>\n",
       "    <tr>\n",
       "      <th>3</th>\n",
       "      <td>Sita</td>\n",
       "      <td>23</td>\n",
       "      <td>Sunsari</td>\n",
       "      <td>909779798798</td>\n",
       "    </tr>\n",
       "    <tr>\n",
       "      <th>4</th>\n",
       "      <td>Rohan</td>\n",
       "      <td>24</td>\n",
       "      <td>Chitwan</td>\n",
       "      <td>8980980090</td>\n",
       "    </tr>\n",
       "  </tbody>\n",
       "</table>\n",
       "</div>"
      ],
      "text/plain": [
       "     Name  Age    Address         Phone\n",
       "SN                                     \n",
       "2   Shyam   20  Kathmandu       9798798\n",
       "3    Sita   23    Sunsari  909779798798\n",
       "4   Rohan   24    Chitwan    8980980090"
      ]
     },
     "execution_count": 15,
     "metadata": {},
     "output_type": "execute_result"
    }
   ],
   "source": [
    "df = pd.read_csv('data.csv',index_col='SN')\n",
    "df.loc[2:4] #prints the data according to serial number"
   ]
  },
  {
   "cell_type": "code",
   "execution_count": 18,
   "id": "bc8d0315",
   "metadata": {},
   "outputs": [
    {
     "data": {
      "text/html": [
       "<div>\n",
       "<style scoped>\n",
       "    .dataframe tbody tr th:only-of-type {\n",
       "        vertical-align: middle;\n",
       "    }\n",
       "\n",
       "    .dataframe tbody tr th {\n",
       "        vertical-align: top;\n",
       "    }\n",
       "\n",
       "    .dataframe thead th {\n",
       "        text-align: right;\n",
       "    }\n",
       "</style>\n",
       "<table border=\"1\" class=\"dataframe\">\n",
       "  <thead>\n",
       "    <tr style=\"text-align: right;\">\n",
       "      <th></th>\n",
       "      <th>SN</th>\n",
       "      <th>Age</th>\n",
       "      <th>Address</th>\n",
       "      <th>Phone</th>\n",
       "    </tr>\n",
       "    <tr>\n",
       "      <th>Name</th>\n",
       "      <th></th>\n",
       "      <th></th>\n",
       "      <th></th>\n",
       "      <th></th>\n",
       "    </tr>\n",
       "  </thead>\n",
       "  <tbody>\n",
       "    <tr>\n",
       "      <th>Shyam</th>\n",
       "      <td>2</td>\n",
       "      <td>20</td>\n",
       "      <td>Kathmandu</td>\n",
       "      <td>9798798</td>\n",
       "    </tr>\n",
       "    <tr>\n",
       "      <th>Sita</th>\n",
       "      <td>3</td>\n",
       "      <td>23</td>\n",
       "      <td>Sunsari</td>\n",
       "      <td>909779798798</td>\n",
       "    </tr>\n",
       "    <tr>\n",
       "      <th>Rohan</th>\n",
       "      <td>4</td>\n",
       "      <td>24</td>\n",
       "      <td>Chitwan</td>\n",
       "      <td>8980980090</td>\n",
       "    </tr>\n",
       "    <tr>\n",
       "      <th>Rita</th>\n",
       "      <td>5</td>\n",
       "      <td>21</td>\n",
       "      <td>Dharan</td>\n",
       "      <td>9878908890</td>\n",
       "    </tr>\n",
       "  </tbody>\n",
       "</table>\n",
       "</div>"
      ],
      "text/plain": [
       "       SN  Age    Address         Phone\n",
       "Name                                   \n",
       "Shyam   2   20  Kathmandu       9798798\n",
       "Sita    3   23    Sunsari  909779798798\n",
       "Rohan   4   24    Chitwan    8980980090\n",
       "Rita    5   21     Dharan    9878908890"
      ]
     },
     "execution_count": 18,
     "metadata": {},
     "output_type": "execute_result"
    }
   ],
   "source": [
    "df = pd.read_csv('data.csv',index_col='Name')\n",
    "df.loc['Shyam':''] "
   ]
  },
  {
   "cell_type": "code",
   "execution_count": 22,
   "id": "078a5dfe",
   "metadata": {},
   "outputs": [
    {
     "data": {
      "text/plain": [
       "SN\n",
       "1        Gulmi\n",
       "2    Kathmandu\n",
       "3      Sunsari\n",
       "4      Chitwan\n",
       "5       Dharan\n",
       "6      Kailali\n",
       "Name: Address, dtype: object"
      ]
     },
     "execution_count": 22,
     "metadata": {},
     "output_type": "execute_result"
    }
   ],
   "source": [
    "df = pd.read_csv('data.csv',index_col='SN') \n",
    "df['Address'] "
   ]
  },
  {
   "cell_type": "code",
   "execution_count": 23,
   "id": "9c8e676c",
   "metadata": {},
   "outputs": [
    {
     "data": {
      "text/plain": [
       "SN\n",
       "1    False\n",
       "2     True\n",
       "3    False\n",
       "4    False\n",
       "5    False\n",
       "6    False\n",
       "Name: Address, dtype: bool"
      ]
     },
     "execution_count": 23,
     "metadata": {},
     "output_type": "execute_result"
    }
   ],
   "source": [
    "df = pd.read_csv('data.csv',index_col='SN') \n",
    "df['Address'] == 'Kathmandu'"
   ]
  },
  {
   "cell_type": "code",
   "execution_count": 27,
   "id": "6d6b9eb1",
   "metadata": {},
   "outputs": [
    {
     "data": {
      "text/html": [
       "<div>\n",
       "<style scoped>\n",
       "    .dataframe tbody tr th:only-of-type {\n",
       "        vertical-align: middle;\n",
       "    }\n",
       "\n",
       "    .dataframe tbody tr th {\n",
       "        vertical-align: top;\n",
       "    }\n",
       "\n",
       "    .dataframe thead th {\n",
       "        text-align: right;\n",
       "    }\n",
       "</style>\n",
       "<table border=\"1\" class=\"dataframe\">\n",
       "  <thead>\n",
       "    <tr style=\"text-align: right;\">\n",
       "      <th></th>\n",
       "      <th>Name</th>\n",
       "      <th>Age</th>\n",
       "      <th>Address</th>\n",
       "      <th>Phone</th>\n",
       "    </tr>\n",
       "    <tr>\n",
       "      <th>SN</th>\n",
       "      <th></th>\n",
       "      <th></th>\n",
       "      <th></th>\n",
       "      <th></th>\n",
       "    </tr>\n",
       "  </thead>\n",
       "  <tbody>\n",
       "    <tr>\n",
       "      <th>2</th>\n",
       "      <td>Shyam</td>\n",
       "      <td>20</td>\n",
       "      <td>Kathmandu</td>\n",
       "      <td>9798798</td>\n",
       "    </tr>\n",
       "  </tbody>\n",
       "</table>\n",
       "</div>"
      ],
      "text/plain": [
       "     Name  Age    Address    Phone\n",
       "SN                                \n",
       "2   Shyam   20  Kathmandu  9798798"
      ]
     },
     "execution_count": 27,
     "metadata": {},
     "output_type": "execute_result"
    }
   ],
   "source": [
    "df = pd.read_csv('data.csv',index_col='SN') \n",
    "df[df['Address'] == 'Kathmandu']"
   ]
  },
  {
   "cell_type": "code",
   "execution_count": 28,
   "id": "e4df75ad",
   "metadata": {},
   "outputs": [
    {
     "data": {
      "text/html": [
       "<div>\n",
       "<style scoped>\n",
       "    .dataframe tbody tr th:only-of-type {\n",
       "        vertical-align: middle;\n",
       "    }\n",
       "\n",
       "    .dataframe tbody tr th {\n",
       "        vertical-align: top;\n",
       "    }\n",
       "\n",
       "    .dataframe thead th {\n",
       "        text-align: right;\n",
       "    }\n",
       "</style>\n",
       "<table border=\"1\" class=\"dataframe\">\n",
       "  <thead>\n",
       "    <tr style=\"text-align: right;\">\n",
       "      <th></th>\n",
       "      <th>Name</th>\n",
       "      <th>Age</th>\n",
       "      <th>Address</th>\n",
       "      <th>Phone</th>\n",
       "    </tr>\n",
       "    <tr>\n",
       "      <th>SN</th>\n",
       "      <th></th>\n",
       "      <th></th>\n",
       "      <th></th>\n",
       "      <th></th>\n",
       "    </tr>\n",
       "  </thead>\n",
       "  <tbody>\n",
       "    <tr>\n",
       "      <th>4</th>\n",
       "      <td>Rohan</td>\n",
       "      <td>24</td>\n",
       "      <td>Chitwan</td>\n",
       "      <td>8980980090</td>\n",
       "    </tr>\n",
       "  </tbody>\n",
       "</table>\n",
       "</div>"
      ],
      "text/plain": [
       "     Name  Age  Address       Phone\n",
       "SN                                 \n",
       "4   Rohan   24  Chitwan  8980980090"
      ]
     },
     "execution_count": 28,
     "metadata": {},
     "output_type": "execute_result"
    }
   ],
   "source": [
    "df = pd.read_csv('data.csv',index_col='SN') \n",
    "df[df['Age'] > 23]"
   ]
  },
  {
   "cell_type": "code",
   "execution_count": 31,
   "id": "eca6b0ae",
   "metadata": {},
   "outputs": [
    {
     "name": "stdout",
     "output_type": "stream",
     "text": [
      "Enter the address you want:Dharan\n"
     ]
    },
    {
     "data": {
      "text/html": [
       "<div>\n",
       "<style scoped>\n",
       "    .dataframe tbody tr th:only-of-type {\n",
       "        vertical-align: middle;\n",
       "    }\n",
       "\n",
       "    .dataframe tbody tr th {\n",
       "        vertical-align: top;\n",
       "    }\n",
       "\n",
       "    .dataframe thead th {\n",
       "        text-align: right;\n",
       "    }\n",
       "</style>\n",
       "<table border=\"1\" class=\"dataframe\">\n",
       "  <thead>\n",
       "    <tr style=\"text-align: right;\">\n",
       "      <th></th>\n",
       "      <th>Name</th>\n",
       "      <th>Age</th>\n",
       "      <th>Address</th>\n",
       "      <th>Phone</th>\n",
       "    </tr>\n",
       "    <tr>\n",
       "      <th>SN</th>\n",
       "      <th></th>\n",
       "      <th></th>\n",
       "      <th></th>\n",
       "      <th></th>\n",
       "    </tr>\n",
       "  </thead>\n",
       "  <tbody>\n",
       "    <tr>\n",
       "      <th>5</th>\n",
       "      <td>Rita</td>\n",
       "      <td>21</td>\n",
       "      <td>Dharan</td>\n",
       "      <td>9878908890</td>\n",
       "    </tr>\n",
       "  </tbody>\n",
       "</table>\n",
       "</div>"
      ],
      "text/plain": [
       "    Name  Age Address       Phone\n",
       "SN                               \n",
       "5   Rita   21  Dharan  9878908890"
      ]
     },
     "execution_count": 31,
     "metadata": {},
     "output_type": "execute_result"
    }
   ],
   "source": [
    "a = input(\"Enter the address you want:\")\n",
    "df = pd.read_csv('data.csv',index_col='SN') \n",
    "df[df['Address'] == a]"
   ]
  },
  {
   "cell_type": "code",
   "execution_count": 35,
   "id": "c9709cce",
   "metadata": {},
   "outputs": [
    {
     "name": "stdout",
     "output_type": "stream",
     "text": [
      "Enter the address you want:Dharan\n"
     ]
    },
    {
     "data": {
      "text/html": [
       "<div>\n",
       "<style scoped>\n",
       "    .dataframe tbody tr th:only-of-type {\n",
       "        vertical-align: middle;\n",
       "    }\n",
       "\n",
       "    .dataframe tbody tr th {\n",
       "        vertical-align: top;\n",
       "    }\n",
       "\n",
       "    .dataframe thead th {\n",
       "        text-align: right;\n",
       "    }\n",
       "</style>\n",
       "<table border=\"1\" class=\"dataframe\">\n",
       "  <thead>\n",
       "    <tr style=\"text-align: right;\">\n",
       "      <th></th>\n",
       "      <th>Name</th>\n",
       "      <th>Age</th>\n",
       "      <th>Address</th>\n",
       "      <th>Phone</th>\n",
       "    </tr>\n",
       "    <tr>\n",
       "      <th>SN</th>\n",
       "      <th></th>\n",
       "      <th></th>\n",
       "      <th></th>\n",
       "      <th></th>\n",
       "    </tr>\n",
       "  </thead>\n",
       "  <tbody>\n",
       "    <tr>\n",
       "      <th>5</th>\n",
       "      <td>Rita</td>\n",
       "      <td>21</td>\n",
       "      <td>Dharan</td>\n",
       "      <td>9878908890</td>\n",
       "    </tr>\n",
       "    <tr>\n",
       "      <th>6</th>\n",
       "      <td>Sabin</td>\n",
       "      <td>21</td>\n",
       "      <td>Dharan</td>\n",
       "      <td>90989897</td>\n",
       "    </tr>\n",
       "  </tbody>\n",
       "</table>\n",
       "</div>"
      ],
      "text/plain": [
       "     Name  Age Address       Phone\n",
       "SN                                \n",
       "5    Rita   21  Dharan  9878908890\n",
       "6   Sabin   21  Dharan    90989897"
      ]
     },
     "execution_count": 35,
     "metadata": {},
     "output_type": "execute_result"
    }
   ],
   "source": [
    "a = input(\"Enter the address you want:\")\n",
    "df = pd.read_csv('data.csv',index_col='SN') \n",
    "df[(df['Address'] == a) & (df['Age'] == 21)]"
   ]
  },
  {
   "cell_type": "code",
   "execution_count": 32,
   "id": "55d4346a",
   "metadata": {},
   "outputs": [],
   "source": [
    "df = pd.read_csv('data.csv',index_col='SN') \n",
    "new_data = df[df['Age'] > 21] \n",
    "new_data.to_csv('naya_data.csv')"
   ]
  },
  {
   "cell_type": "code",
   "execution_count": 36,
   "id": "ee50832c",
   "metadata": {},
   "outputs": [],
   "source": [
    "# df = pd.DataFrame(data) # adding dictionary (data) in DataFrame\n",
    "# df.to_csv('record.csv')\n",
    "# df"
   ]
  },
  {
   "cell_type": "code",
   "execution_count": 37,
   "id": "eb665ba7",
   "metadata": {},
   "outputs": [],
   "source": [
    "#adding list in csv file\n",
    "#adding list inside list in csv file"
   ]
  },
  {
   "cell_type": "code",
   "execution_count": 39,
   "id": "56af2914",
   "metadata": {},
   "outputs": [],
   "source": [
    "# import csv\n",
    "# fields = ['Kamal','56','Sunsari']\n",
    "# f = open('data.csv','a')\n",
    "# x = csv.writer(f)\n",
    "# x.writerow(fields)\n",
    "# f.close()"
   ]
  },
  {
   "cell_type": "code",
   "execution_count": null,
   "id": "e6a6d114",
   "metadata": {},
   "outputs": [],
   "source": []
  }
 ],
 "metadata": {
  "kernelspec": {
   "display_name": "Python 3 (ipykernel)",
   "language": "python",
   "name": "python3"
  },
  "language_info": {
   "codemirror_mode": {
    "name": "ipython",
    "version": 3
   },
   "file_extension": ".py",
   "mimetype": "text/x-python",
   "name": "python",
   "nbconvert_exporter": "python",
   "pygments_lexer": "ipython3",
   "version": "3.9.7"
  }
 },
 "nbformat": 4,
 "nbformat_minor": 5
}
