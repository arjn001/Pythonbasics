{
 "cells": [
  {
   "cell_type": "code",
   "execution_count": 2,
   "id": "a4957bf3",
   "metadata": {},
   "outputs": [
    {
     "name": "stdout",
     "output_type": "stream",
     "text": [
      "Hello world I am Ram. I am from KAth. I am 32\n",
      "Hello I am from KAth. My name is Ram\n"
     ]
    }
   ],
   "source": [
    "class Info:\n",
    "    def __init__(self,add):\n",
    "        self.add = add\n",
    "    def ad(self):\n",
    "        print(f\"Hello I am from {self.add}. My name is {self.name}\")\n",
    "        \n",
    "class Org(Info):\n",
    "    def __init__(self,age,add):\n",
    "        self.age = age\n",
    "        Info.__init__(self,add)\n",
    "\n",
    "class Data(Org):\n",
    "    def __init__ (self,name,age,add):\n",
    "        self.name = name\n",
    "        Org.__init__(self,age,add)\n",
    "    def data(self):\n",
    "        print(f\"Hello world I am {self.name}. I am from {self.add}. I am {self.age}\")\n",
    "        \n",
    "obj = Data(\"Ram\",32,\"KAth\")\n",
    "obj.data()\n",
    "obj.ad()"
   ]
  },
  {
   "cell_type": "code",
   "execution_count": 11,
   "id": "e03a9e0d",
   "metadata": {},
   "outputs": [
    {
     "name": "stdout",
     "output_type": "stream",
     "text": [
      "Hello world I am Ram. I am from KAth. I am 32\n",
      "Hello I am from KAth. My name is Ram\n"
     ]
    }
   ],
   "source": [
    "class Info:\n",
    "    def __init__(self,add):\n",
    "        self.add = add\n",
    "    def ad(self):\n",
    "        print(f\"Hello I am from {self.add}. My name is {self.name}\")\n",
    "        \n",
    "class Org:\n",
    "    def __init__(self,age):\n",
    "        self.age = age\n",
    "    \n",
    "\n",
    "class Data(Org,Info):\n",
    "    def __init__ (self,name,age,add):\n",
    "        self.name = name\n",
    "        Org.__init__(self,age)\n",
    "        Info.__init__(self,add)\n",
    "    def data(self):\n",
    "        print(f\"Hello world I am {self.name}. I am from {self.add}. I am {self.age}\")\n",
    "        \n",
    "obj = Data(\"Ram\",32,\"KAth\")\n",
    "obj.data()\n",
    "obj.ad()"
   ]
  },
  {
   "cell_type": "code",
   "execution_count": 10,
   "id": "c0f5b867",
   "metadata": {},
   "outputs": [
    {
     "name": "stdout",
     "output_type": "stream",
     "text": [
      "Enter name:Arjun\n",
      "Enter age:12\n",
      "Enter adress:Kath\n",
      "Hello world I am Arjun. I am from Kath. I am 12\n",
      "Hello I am from Kath. My name is Arjun\n",
      "Enter age:34\n",
      "Hello I am 34\n"
     ]
    }
   ],
   "source": [
    "class Info:\n",
    "    def __init__(self):\n",
    "        self.add = input(\"Enter adress:\")\n",
    "    def ad(self):\n",
    "        print(f\"Hello I am from {self.add}. My name is {self.name}\")\n",
    "        \n",
    "class Org:\n",
    "    def __init__(self):\n",
    "        self.age = input(\"Enter age:\")\n",
    "    def org(self):\n",
    "        print(f\"Hello I am {self.age}\")\n",
    "\n",
    "class Data(Info,Org):\n",
    "    def __init__ (self):\n",
    "        self.name = input(\"Enter name:\")\n",
    "        Org.__init__(self)\n",
    "        Info.__init__(self)\n",
    "    def data(self):\n",
    "        print(f\"Hello world I am {self.name}. I am from {self.add}. I am {self.age}\")\n",
    "        \n",
    "obj = Data()\n",
    "obj.data()\n",
    "obj.ad()\n",
    "# argument is not needed if the user input is taken.\n",
    "obj1 = Org()\n",
    "obj1.org()"
   ]
  },
  {
   "cell_type": "code",
   "execution_count": 12,
   "id": "24871cf2",
   "metadata": {},
   "outputs": [],
   "source": [
    "# try: taking user input all at last:"
   ]
  },
  {
   "cell_type": "code",
   "execution_count": null,
   "id": "38296794",
   "metadata": {},
   "outputs": [],
   "source": [
    "class Info:\n",
    "    def __init__(self):\n",
    "        self.name = name\n",
    "    def name_p():\n",
    "        print(f\"My name is {self.name}\")\n",
    "class Data:\n",
    "    def __init__(self):\n",
    "        self.age = age\n",
    "    def age_p():\n",
    "        print(f\"I am {self.age}\")\n",
    "        \n",
    "class Org:\n",
    "    def __init__(self):\n",
    "        self.add = add\n",
    "    def add_p():\n",
    "        print(f\"I am from {self.add}\")\n",
    "name = input(\"Enter name:\")\n",
    "age = int(input(\"Enter age:\"))"
   ]
  }
 ],
 "metadata": {
  "kernelspec": {
   "display_name": "Python 3 (ipykernel)",
   "language": "python",
   "name": "python3"
  },
  "language_info": {
   "codemirror_mode": {
    "name": "ipython",
    "version": 3
   },
   "file_extension": ".py",
   "mimetype": "text/x-python",
   "name": "python",
   "nbconvert_exporter": "python",
   "pygments_lexer": "ipython3",
   "version": "3.9.7"
  }
 },
 "nbformat": 4,
 "nbformat_minor": 5
}
