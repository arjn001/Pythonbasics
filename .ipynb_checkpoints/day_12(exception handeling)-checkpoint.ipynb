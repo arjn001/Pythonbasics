{
 "cells": [
  {
   "cell_type": "code",
   "execution_count": 1,
   "id": "e144cbb5",
   "metadata": {},
   "outputs": [],
   "source": [
    "# try\n",
    "#    pass\n",
    "# except\n",
    "#    pass"
   ]
  },
  {
   "cell_type": "code",
   "execution_count": 7,
   "id": "5224cdf6",
   "metadata": {},
   "outputs": [
    {
     "name": "stdout",
     "output_type": "stream",
     "text": [
      "Enter age:ten\n",
      "error!!!\n",
      "age should be in number!!!\n"
     ]
    }
   ],
   "source": [
    "try:\n",
    "    age = int(input(\"Enter age:\"))\n",
    "except:\n",
    "    print(\"error!!!\"\"\\n\"\"age should be in number!!!\")\n",
    "    "
   ]
  },
  {
   "cell_type": "code",
   "execution_count": 9,
   "id": "9f15f3ca",
   "metadata": {},
   "outputs": [
    {
     "name": "stdout",
     "output_type": "stream",
     "text": [
      "Enter first number:45\n",
      "Enter second number:dfsad\n",
      "ERROR!!!\n",
      "Enter first number:45\n",
      "Enter second number:45\n",
      "1.0\n"
     ]
    }
   ],
   "source": [
    "def cal():\n",
    "    try:\n",
    "        a = int(input(\"Enter first number:\"))\n",
    "        b = int(input(\"Enter second number:\"))\n",
    "        c = a/b\n",
    "        print(c)\n",
    "    except:\n",
    "        print(\"ERROR!!!\")\n",
    "        cal()\n",
    "cal()\n",
    "    "
   ]
  },
  {
   "cell_type": "code",
   "execution_count": 11,
   "id": "d707731d",
   "metadata": {},
   "outputs": [
    {
     "name": "stdout",
     "output_type": "stream",
     "text": [
      "Enter first number:ffsdf\n",
      "ERROR!!!\n",
      "Enter first number:fsd\n",
      "ERROR!!!\n",
      "Enter first number:fsd\n",
      "ERROR!!!\n",
      "No more attempts!!!\n"
     ]
    }
   ],
   "source": [
    "c = 0\n",
    "def cal():\n",
    "    global c\n",
    "    try:\n",
    "        a = int(input(\"Enter first number:\"))\n",
    "        b = int(input(\"Enter second number:\"))\n",
    "        c = a/b\n",
    "        print(c)\n",
    "    except:\n",
    "        print(\"ERROR!!!\")\n",
    "        c = c + 1\n",
    "        if c < 3:\n",
    "            cal()\n",
    "        else:\n",
    "            print(\"No more attempts!!!\")\n",
    "cal()\n",
    "    "
   ]
  }
 ],
 "metadata": {
  "kernelspec": {
   "display_name": "Python 3 (ipykernel)",
   "language": "python",
   "name": "python3"
  },
  "language_info": {
   "codemirror_mode": {
    "name": "ipython",
    "version": 3
   },
   "file_extension": ".py",
   "mimetype": "text/x-python",
   "name": "python",
   "nbconvert_exporter": "python",
   "pygments_lexer": "ipython3",
   "version": "3.9.7"
  }
 },
 "nbformat": 4,
 "nbformat_minor": 5
}
