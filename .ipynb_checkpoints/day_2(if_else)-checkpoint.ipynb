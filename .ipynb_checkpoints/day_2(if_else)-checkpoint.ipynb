{
 "cells": [
  {
   "cell_type": "code",
   "execution_count": null,
   "id": "7ad8c60c",
   "metadata": {},
   "outputs": [],
   "source": [
    "# conditional statements!"
   ]
  },
  {
   "cell_type": "code",
   "execution_count": null,
   "id": "89125d80",
   "metadata": {},
   "outputs": [],
   "source": [
    "a = 5\n",
    "b = 3\n",
    "print(a>b)"
   ]
  },
  {
   "cell_type": "code",
   "execution_count": null,
   "id": "8617c23f",
   "metadata": {},
   "outputs": [],
   "source": [
    "a = int(input(\"Enter a number: \"))\n",
    "if a%2 == 0:\n",
    "    print(\"Even\")\n",
    "else:\n",
    "    print(\"Odd\")"
   ]
  },
  {
   "cell_type": "code",
   "execution_count": null,
   "id": "03ac19a1",
   "metadata": {},
   "outputs": [],
   "source": [
    "a = int(input('Enter first number: '))\n",
    "b = int(input('Enter second number: '))\n",
    "if a>b:\n",
    "    print(a,\"is greater\")\n",
    "elif b>a:\n",
    "    print(b,\"is greater\")\n",
    "else:\n",
    "    print(\"Both of them are equal\")\n",
    "    "
   ]
  },
  {
   "cell_type": "code",
   "execution_count": 3,
   "id": "26ccc979",
   "metadata": {},
   "outputs": [
    {
     "name": "stdout",
     "output_type": "stream",
     "text": [
      "A number:12\n",
      "Second number:13\n",
      "Enter a operation:+ - * /\n",
      "Wrong Input!!\n"
     ]
    }
   ],
   "source": [
    "a = float(input(\"A number:\"))\n",
    "b = float(input(\"Second number:\"))\n",
    "o = input(\"Enter a operation:+ - * /\")\n",
    "if o == \"+\":\n",
    "    print(a+b)\n",
    "elif o == \"-\":\n",
    "    print(a-b)\n",
    "elif o == \"*\":\n",
    "    print(a*b)\n",
    "elif o == \"/\":\n",
    "    print(a/b)\n",
    "else:\n",
    "    print(\"Wrong Input!!\")"
   ]
  },
  {
   "cell_type": "code",
   "execution_count": 4,
   "id": "55c15a50",
   "metadata": {},
   "outputs": [
    {
     "name": "stdout",
     "output_type": "stream",
     "text": [
      "A number:12\n",
      "Second number:0\n",
      "Enter a operation:+ - * //\n",
      "Undefined!!!\n"
     ]
    }
   ],
   "source": [
    "a = float(input(\"A number:\"))\n",
    "b = float(input(\"Second number:\"))\n",
    "o = input(\"Enter a operation:+ - * /\")\n",
    "if o == \"+\":\n",
    "    print(a+b)\n",
    "elif o == \"-\":\n",
    "    print(a-b)\n",
    "elif o == \"*\":\n",
    "    print(a*b)\n",
    "elif o == \"/\" and b != 0:\n",
    "    print(a/b)\n",
    "elif o == \"/\" and b == 0:\n",
    "    print(\"Undefined!!!\")\n",
    "else:\n",
    "    print(\"Wrong Input!!\")"
   ]
  },
  {
   "cell_type": "code",
   "execution_count": 5,
   "id": "e27bc7f2",
   "metadata": {},
   "outputs": [],
   "source": [
    "#nested if"
   ]
  },
  {
   "cell_type": "code",
   "execution_count": 7,
   "id": "fd833e82",
   "metadata": {},
   "outputs": [
    {
     "name": "stdout",
     "output_type": "stream",
     "text": [
      "percent?60\n",
      "First division\n"
     ]
    }
   ],
   "source": [
    "per = int(input(\"percent?\"))\n",
    "if (per == 60 or per > 60):\n",
    "    print(\"First division\")\n",
    "    "
   ]
  },
  {
   "cell_type": "code",
   "execution_count": 8,
   "id": "d4cffc9f",
   "metadata": {},
   "outputs": [],
   "source": [
    "# if <condition>:\n",
    "#    if<condition>:\n",
    "#      else:\n",
    "#             <operation>\n",
    "        \n",
    "# else:\n",
    "# <operation>\n"
   ]
  },
  {
   "cell_type": "code",
   "execution_count": 16,
   "id": "b0df6a85",
   "metadata": {},
   "outputs": [
    {
     "name": "stdout",
     "output_type": "stream",
     "text": [
      "Enter a number: 45\n",
      "45 is a positive odd number\n"
     ]
    }
   ],
   "source": [
    "n = int(input(\"Enter a number: \"))\n",
    "if n>=0:\n",
    "    if n%2 == 0:\n",
    "        print(n,\"is a positive even number\")\n",
    "    else:\n",
    "        print(n,\"is a positive odd number\")\n",
    "else:\n",
    "    print(n,\"is a negative number\")"
   ]
  },
  {
   "cell_type": "code",
   "execution_count": 22,
   "id": "29388079",
   "metadata": {},
   "outputs": [
    {
     "name": "stdout",
     "output_type": "stream",
     "text": [
      "A number:12\n",
      "Second number:0\n",
      "Enter a operation:+ - * //\n",
      "Undefined!! The value of b can't be zero!!\n"
     ]
    }
   ],
   "source": [
    "a = float(input(\"A number:\"))\n",
    "b = float(input(\"Second number:\"))\n",
    "o = input(\"Enter a operation:+ - * /\")\n",
    "if o == \"+\":\n",
    "    print(a+b)\n",
    "elif o == \"-\":\n",
    "    print(a-b)\n",
    "elif o == \"*\":\n",
    "    print(a*b)\n",
    "elif o == \"/\" and b != 0:\n",
    "    print(a/b)\n",
    "elif o == \"/\":\n",
    "    if b != 0:\n",
    "        print(a/b)\n",
    "    else:\n",
    "        print(\"Undefined!! The value of b can't be zero!!\")\n",
    "else:\n",
    "    print(\"Wrong Input!!\")"
   ]
  },
  {
   "cell_type": "code",
   "execution_count": null,
   "id": "3f58a2d6",
   "metadata": {},
   "outputs": [],
   "source": []
  }
 ],
 "metadata": {
  "kernelspec": {
   "display_name": "Python 3 (ipykernel)",
   "language": "python",
   "name": "python3"
  },
  "language_info": {
   "codemirror_mode": {
    "name": "ipython",
    "version": 3
   },
   "file_extension": ".py",
   "mimetype": "text/x-python",
   "name": "python",
   "nbconvert_exporter": "python",
   "pygments_lexer": "ipython3",
   "version": "3.9.7"
  }
 },
 "nbformat": 4,
 "nbformat_minor": 5
}
