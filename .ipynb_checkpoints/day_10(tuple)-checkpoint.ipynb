{
 "cells": [
  {
   "cell_type": "code",
   "execution_count": 17,
   "id": "886ab34a",
   "metadata": {},
   "outputs": [],
   "source": [
    "# tuple\n",
    "# indexed\n",
    "# ordered\n",
    "# multiple and duplicate data\n",
    "# imutable"
   ]
  },
  {
   "cell_type": "code",
   "execution_count": 2,
   "id": "37229d8b",
   "metadata": {},
   "outputs": [
    {
     "name": "stdout",
     "output_type": "stream",
     "text": [
      "me\n",
      "<class 'tuple'>\n"
     ]
    }
   ],
   "source": [
    "a = (\"me\",\"she\",\"her\",\"their\")\n",
    "print(a[0])\n",
    "print(type(a))"
   ]
  },
  {
   "cell_type": "code",
   "execution_count": 3,
   "id": "5d005b64",
   "metadata": {},
   "outputs": [
    {
     "name": "stdout",
     "output_type": "stream",
     "text": [
      "('me', 'she', 'her', 'their')\n"
     ]
    }
   ],
   "source": [
    "print(a)"
   ]
  },
  {
   "cell_type": "code",
   "execution_count": 6,
   "id": "c6c7ec5e",
   "metadata": {},
   "outputs": [
    {
     "name": "stdout",
     "output_type": "stream",
     "text": [
      "('you', 'have', 'to', 'be')\n",
      "('you', 'have', 'to', 'be', 'the', 'one')\n",
      "('you', 'to', 'the')\n"
     ]
    }
   ],
   "source": [
    "a = (\"you\",\"have\",\"to\",\"be\",\"the\",\"one\")\n",
    "print(a[0:4])\n",
    "print(a[0:len(a)])\n",
    "print(a[0:len(a):2])"
   ]
  },
  {
   "cell_type": "code",
   "execution_count": 7,
   "id": "3bb556e6",
   "metadata": {},
   "outputs": [],
   "source": [
    "#Can't be done the following:\n",
    "# append\n",
    "# extend\n",
    "# insert\n",
    "# update\n",
    "# del\n",
    "# pop\n",
    "# remove"
   ]
  },
  {
   "cell_type": "code",
   "execution_count": 8,
   "id": "9e2a620d",
   "metadata": {},
   "outputs": [
    {
     "name": "stdout",
     "output_type": "stream",
     "text": [
      "('Apple',)\n"
     ]
    }
   ],
   "source": [
    "#create\n",
    "a = tuple() #tuple always takes multiple values(or, for single value, the data type will be string not tuple!!!)\n",
    "b = (\"Apple\",) # since tuple can take more than a value\n",
    "c = a + b\n",
    "print(c)"
   ]
  },
  {
   "cell_type": "code",
   "execution_count": 9,
   "id": "19bff0b7",
   "metadata": {},
   "outputs": [
    {
     "name": "stdout",
     "output_type": "stream",
     "text": [
      "Enter the number of values:3\n",
      "Enter value:dsdaf\n",
      "Enter value:eqwAS\n",
      "Enter value:FFS\n",
      "('dsdaf', 'eqwAS', 'FFS')\n"
     ]
    }
   ],
   "source": [
    "t = tuple()\n",
    "n = int(input(\"Enter the number of values:\"))\n",
    "for i in range(n):\n",
    "    x = input(\"Enter value:\")\n",
    "    t = t+(x,) # tuple takes more than a value\n",
    "print(t)"
   ]
  },
  {
   "cell_type": "code",
   "execution_count": 10,
   "id": "9e7baf60",
   "metadata": {},
   "outputs": [
    {
     "name": "stdout",
     "output_type": "stream",
     "text": [
      "Enter the number of values:3\n",
      "Enter value:fsdfa\n",
      "Enter value:fdssa\n",
      "Enter value:gdfd\n",
      "('f', 's', 'd', 'f', 'a', 'f', 'd', 's', 's', 'a', 'g', 'd', 'f', 'd')\n"
     ]
    }
   ],
   "source": [
    "t = tuple()\n",
    "n = int(input(\"Enter the number of values:\"))\n",
    "for i in range(n):\n",
    "    x = tuple(input(\"Enter value:\"))\n",
    "    t = t + x #tuple takes more than a value\n",
    "print(t)"
   ]
  },
  {
   "cell_type": "code",
   "execution_count": 13,
   "id": "46e4e022",
   "metadata": {},
   "outputs": [
    {
     "name": "stdout",
     "output_type": "stream",
     "text": [
      "['you', 'have', 'to', 'be', 'the', 'one']\n",
      "('you', 'have', 'to', 'be', 'the', 'one')\n"
     ]
    }
   ],
   "source": [
    "a = (\"you\",\"have\",\"to\",\"be\",\"the\",\"one\")\n",
    "b = list(a)\n",
    "a = tuple(b)\n",
    "print(b)\n",
    "print(a)"
   ]
  },
  {
   "cell_type": "code",
   "execution_count": 14,
   "id": "8d1f1458",
   "metadata": {},
   "outputs": [],
   "source": [
    "# max min sum\n",
    "# but can't use sort !!\n",
    "# but (sorted) keyword can be used"
   ]
  }
 ],
 "metadata": {
  "kernelspec": {
   "display_name": "Python 3 (ipykernel)",
   "language": "python",
   "name": "python3"
  },
  "language_info": {
   "codemirror_mode": {
    "name": "ipython",
    "version": 3
   },
   "file_extension": ".py",
   "mimetype": "text/x-python",
   "name": "python",
   "nbconvert_exporter": "python",
   "pygments_lexer": "ipython3",
   "version": "3.9.7"
  }
 },
 "nbformat": 4,
 "nbformat_minor": 5
}
