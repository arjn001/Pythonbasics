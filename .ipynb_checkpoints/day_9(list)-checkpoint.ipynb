{
 "cells": [
  {
   "cell_type": "code",
   "execution_count": 1,
   "id": "62bcc6c7",
   "metadata": {},
   "outputs": [],
   "source": [
    "#python collection \n",
    "# list\n",
    "# tuple\n",
    "# dictionary\n",
    "# set"
   ]
  },
  {
   "cell_type": "code",
   "execution_count": 2,
   "id": "c28dc3d6",
   "metadata": {},
   "outputs": [],
   "source": [
    "#list"
   ]
  },
  {
   "cell_type": "code",
   "execution_count": 7,
   "id": "e19de95f",
   "metadata": {},
   "outputs": [
    {
     "name": "stdout",
     "output_type": "stream",
     "text": [
      "[5, 4, 7, 8] ['She', 'He', 'it']\n",
      "<class 'list'> <class 'list'>\n"
     ]
    }
   ],
   "source": [
    "a = [5,4,7,8]\n",
    "b = [\"She\", \"He\", \"it\" ]\n",
    "print(a,b)\n",
    "print(type(a),type(b))"
   ]
  },
  {
   "cell_type": "code",
   "execution_count": 9,
   "id": "952bdeb8",
   "metadata": {},
   "outputs": [
    {
     "name": "stdout",
     "output_type": "stream",
     "text": [
      "5\n",
      "[5, 7]\n"
     ]
    }
   ],
   "source": [
    "print(a[0])\n",
    "print(a[0:3:2])"
   ]
  },
  {
   "cell_type": "code",
   "execution_count": 10,
   "id": "54471ddf",
   "metadata": {},
   "outputs": [
    {
     "name": "stdout",
     "output_type": "stream",
     "text": [
      "[5, 4, 7, 8]\n"
     ]
    }
   ],
   "source": [
    "print(a[0:len(a)])"
   ]
  },
  {
   "cell_type": "code",
   "execution_count": 11,
   "id": "d90dce72",
   "metadata": {},
   "outputs": [
    {
     "name": "stdout",
     "output_type": "stream",
     "text": [
      "['She', 'He', 'it']\n"
     ]
    }
   ],
   "source": [
    "print(b[0:4])"
   ]
  },
  {
   "cell_type": "code",
   "execution_count": 12,
   "id": "1eb58861",
   "metadata": {},
   "outputs": [
    {
     "name": "stdout",
     "output_type": "stream",
     "text": [
      "[5, 4, 7, 8]\n"
     ]
    }
   ],
   "source": [
    "print(a[0::])"
   ]
  },
  {
   "cell_type": "code",
   "execution_count": 18,
   "id": "58bd427e",
   "metadata": {},
   "outputs": [
    {
     "name": "stdout",
     "output_type": "stream",
     "text": [
      "e\n"
     ]
    }
   ],
   "source": [
    "a = [\"she\", \"he\",\"it\"]\n",
    "print(a[0][2])"
   ]
  },
  {
   "cell_type": "code",
   "execution_count": 21,
   "id": "3cb04120",
   "metadata": {},
   "outputs": [
    {
     "name": "stdout",
     "output_type": "stream",
     "text": [
      "[3, 6, 7, 8, 9, 'f', 'y', 'u', 'a']\n"
     ]
    }
   ],
   "source": [
    "a = [3,6,7,8,9]\n",
    "b = [\"f\",\"y\",\"u\",\"a\"]\n",
    "c = a+b\n",
    "print(c)"
   ]
  },
  {
   "cell_type": "code",
   "execution_count": 23,
   "id": "7b153fe1",
   "metadata": {},
   "outputs": [
    {
     "name": "stdout",
     "output_type": "stream",
     "text": [
      "['me', 'tme', 'Ma']\n"
     ]
    }
   ],
   "source": [
    "a = [\"me\",\"tme\",\"uh\"]\n",
    "a[2] = \"Ma\"\n",
    "print(a)"
   ]
  },
  {
   "cell_type": "code",
   "execution_count": 24,
   "id": "4805e6e2",
   "metadata": {},
   "outputs": [
    {
     "name": "stdout",
     "output_type": "stream",
     "text": [
      "tme\n",
      "ma\n",
      "uh\n"
     ]
    }
   ],
   "source": [
    "a = [\"tme\",\"ma\",\"uh\"]\n",
    "for i in a:\n",
    "    print(i)"
   ]
  },
  {
   "cell_type": "code",
   "execution_count": 26,
   "id": "28493f89",
   "metadata": {},
   "outputs": [
    {
     "name": "stdout",
     "output_type": "stream",
     "text": [
      "3\n"
     ]
    }
   ],
   "source": [
    "l = len(a[0])\n",
    "print(l)"
   ]
  },
  {
   "cell_type": "code",
   "execution_count": 27,
   "id": "18f4d78d",
   "metadata": {},
   "outputs": [],
   "source": [
    "#append() insert() extend()"
   ]
  },
  {
   "cell_type": "code",
   "execution_count": 31,
   "id": "4da5fd8d",
   "metadata": {},
   "outputs": [],
   "source": [
    "a = [] #or a = list()\n",
    "a.append(\"Apple\")\n",
    "a.append(\"SHE\")"
   ]
  },
  {
   "cell_type": "code",
   "execution_count": 32,
   "id": "86b1b6ff",
   "metadata": {},
   "outputs": [
    {
     "name": "stdout",
     "output_type": "stream",
     "text": [
      "['Apple', 'SHE']\n"
     ]
    }
   ],
   "source": [
    "print(a)"
   ]
  },
  {
   "cell_type": "code",
   "execution_count": 34,
   "id": "9ccc4130",
   "metadata": {},
   "outputs": [
    {
     "name": "stdout",
     "output_type": "stream",
     "text": [
      "['TME', 'Hami', 'MA', 'UH']\n"
     ]
    }
   ],
   "source": [
    "a = [\"TME\",\"MA\",\"UH\"]\n",
    "a.insert(1,\"Hami\")\n",
    "print(a)"
   ]
  },
  {
   "cell_type": "code",
   "execution_count": 38,
   "id": "0035f9fc",
   "metadata": {},
   "outputs": [
    {
     "name": "stdout",
     "output_type": "stream",
     "text": [
      "TME\n",
      "Hami\n",
      "MA\n",
      "UH\n"
     ]
    }
   ],
   "source": [
    "for i in a:\n",
    "    print(i)"
   ]
  },
  {
   "cell_type": "code",
   "execution_count": 43,
   "id": "a5bf5a8f",
   "metadata": {},
   "outputs": [
    {
     "name": "stdout",
     "output_type": "stream",
     "text": [
      "['Hami', 'AAja', 'Hijo', 1, 33, 57]\n"
     ]
    }
   ],
   "source": [
    "#extend : a complete list can be added\n",
    "a = [\"Hami\",\"AAja\",\"Hijo\"]\n",
    "b = [1,33,57]\n",
    "a.extend(b)\n",
    "print(a)"
   ]
  },
  {
   "cell_type": "code",
   "execution_count": 41,
   "id": "90bbe33b",
   "metadata": {},
   "outputs": [
    {
     "name": "stdout",
     "output_type": "stream",
     "text": [
      "[1, 33, 57, 'Hami', 'AAja', 'Hijo', 1, 33, 57]\n"
     ]
    }
   ],
   "source": [
    "\n",
    "b.extend(a)\n",
    "print(b)"
   ]
  },
  {
   "cell_type": "code",
   "execution_count": 48,
   "id": "13a29e22",
   "metadata": {},
   "outputs": [
    {
     "name": "stdout",
     "output_type": "stream",
     "text": [
      "Enter a range5\n",
      "Enter the values:543\n",
      "[543]\n",
      "Enter the values:523\n",
      "[543, 523]\n",
      "Enter the values:321\n",
      "[543, 523, 321]\n",
      "Enter the values:657\n",
      "[543, 523, 321, 657]\n",
      "Enter the values:432\n",
      "[543, 523, 321, 657, 432]\n"
     ]
    }
   ],
   "source": [
    "l = []\n",
    "n = int(input(\"Enter a range\"))\n",
    "for i in range(n):\n",
    "    x = int(input(\"Enter the values:\"))\n",
    "    l.append(x)\n",
    "        \n",
    "    print(l) #this will print the result individually.\n",
    "#[print(l)] would print all the result at last"
   ]
  },
  {
   "cell_type": "code",
   "execution_count": 46,
   "id": "253bb32c",
   "metadata": {},
   "outputs": [
    {
     "name": "stdout",
     "output_type": "stream",
     "text": [
      "ENter the range:5\n",
      "Enter the valuesgdg\n",
      "Enter the values432\n",
      "Enter the valuesd\n",
      "Enter the values324\n",
      "Enter the valuesds\n",
      "['gdg', '432', 'd', '324', 'ds']\n"
     ]
    }
   ],
   "source": [
    "l = []\n",
    "n = int(input(\"ENter the range:\"))\n",
    "for i in range(n):\n",
    "    x = input(\"Enter the values\")\n",
    "    l.append(x)\n",
    "print(l)\n",
    "# here the result is printed at last"
   ]
  },
  {
   "cell_type": "code",
   "execution_count": 49,
   "id": "4f3138f7",
   "metadata": {},
   "outputs": [
    {
     "name": "stdout",
     "output_type": "stream",
     "text": [
      "Enter a range5\n",
      "Enter the values:65464\n",
      "Enter the values:433432\n",
      "Enter the values:867566\n",
      "Enter the values:2342\n",
      "Enter the values:85674\n",
      "[65464, 433432, 867566, 2342, 85674]\n"
     ]
    }
   ],
   "source": [
    "l = []\n",
    "n = int(input(\"Enter a range\"))\n",
    "for i in range(n):\n",
    "    x = int(input(\"Enter the values:\"))\n",
    "    l.append(x)\n",
    "        \n",
    "print(l)"
   ]
  },
  {
   "cell_type": "code",
   "execution_count": 50,
   "id": "1568c7db",
   "metadata": {},
   "outputs": [
    {
     "name": "stdout",
     "output_type": "stream",
     "text": [
      "1454478\n",
      "867566\n",
      "2342\n"
     ]
    }
   ],
   "source": [
    "print(sum(l))\n",
    "print(max(l))\n",
    "print(min(l))\n",
    "\n"
   ]
  },
  {
   "cell_type": "code",
   "execution_count": 51,
   "id": "4ed29c08",
   "metadata": {},
   "outputs": [
    {
     "name": "stdout",
     "output_type": "stream",
     "text": [
      "[2342, 65464, 85674, 433432, 867566]\n"
     ]
    }
   ],
   "source": [
    "l.sort()\n",
    "print(l)"
   ]
  },
  {
   "cell_type": "code",
   "execution_count": 52,
   "id": "edbecc91",
   "metadata": {},
   "outputs": [
    {
     "name": "stdout",
     "output_type": "stream",
     "text": [
      "[867566, 433432, 85674, 65464, 2342]\n"
     ]
    }
   ],
   "source": [
    "l.reverse()\n",
    "print(l)"
   ]
  },
  {
   "cell_type": "code",
   "execution_count": 53,
   "id": "279b4dda",
   "metadata": {},
   "outputs": [
    {
     "name": "stdout",
     "output_type": "stream",
     "text": [
      "ENter the range:5\n",
      "Enter the valuesdfsg\n",
      "Enter the values4434\n",
      "Enter the values757\n",
      "Enter the valuesfsdf\n",
      "Enter the values756754\n",
      "['dfsg', '4434', '757', 'fsdf', '756754']\n"
     ]
    }
   ],
   "source": [
    "list = []\n",
    "n = int(input(\"ENter the range:\"))\n",
    "for i in range(n):\n",
    "    x = input(\"Enter the values\")\n",
    "    list.append(x)\n",
    "print(list)"
   ]
  },
  {
   "cell_type": "code",
   "execution_count": 54,
   "id": "ea8bf55a",
   "metadata": {},
   "outputs": [
    {
     "ename": "TypeError",
     "evalue": "unsupported operand type(s) for +: 'int' and 'str'",
     "output_type": "error",
     "traceback": [
      "\u001b[1;31m---------------------------------------------------------------------------\u001b[0m",
      "\u001b[1;31mTypeError\u001b[0m                                 Traceback (most recent call last)",
      "\u001b[1;32m~\\AppData\\Local\\Temp/ipykernel_2220/8746553.py\u001b[0m in \u001b[0;36m<module>\u001b[1;34m\u001b[0m\n\u001b[1;32m----> 1\u001b[1;33m \u001b[0mprint\u001b[0m\u001b[1;33m(\u001b[0m\u001b[0msum\u001b[0m\u001b[1;33m(\u001b[0m\u001b[0mlist\u001b[0m\u001b[1;33m)\u001b[0m\u001b[1;33m)\u001b[0m\u001b[1;33m\u001b[0m\u001b[1;33m\u001b[0m\u001b[0m\n\u001b[0m",
      "\u001b[1;31mTypeError\u001b[0m: unsupported operand type(s) for +: 'int' and 'str'"
     ]
    }
   ],
   "source": [
    "print(sum(list)) # strings can't be added>"
   ]
  },
  {
   "cell_type": "code",
   "execution_count": 56,
   "id": "0d8327c2",
   "metadata": {},
   "outputs": [
    {
     "name": "stdout",
     "output_type": "stream",
     "text": [
      "['hami', 'ma', 'she', 'tini']\n"
     ]
    }
   ],
   "source": [
    "a = [\"she\",\"ma\",\"hami\",\"tini\"]\n",
    "a.sort()\n",
    "print(a)"
   ]
  },
  {
   "cell_type": "code",
   "execution_count": 63,
   "id": "29692934",
   "metadata": {},
   "outputs": [
    {
     "name": "stdout",
     "output_type": "stream",
     "text": [
      "['Che', 'chicken', 'chilli']\n"
     ]
    }
   ],
   "source": [
    "l= []\n",
    "a = [\"Che\",\"chicken\",\"chilli\",\"mero\",\"tmro\"]\n",
    "for i in a:\n",
    "    if i[0] == 'c' or i[0] == 'C':\n",
    "        l.append(i)\n",
    "    \n",
    "print(l)"
   ]
  },
  {
   "cell_type": "code",
   "execution_count": 64,
   "id": "6e7247d8",
   "metadata": {},
   "outputs": [
    {
     "name": "stdout",
     "output_type": "stream",
     "text": [
      "['Che', 'chicken', 'chilli']\n"
     ]
    }
   ],
   "source": [
    "l= []\n",
    "a = [\"Che\",\"chicken\",\"chilli\",\"mero\",\"tmro\"]\n",
    "for i in a:\n",
    "    if i[0].lower() == 'c':\n",
    "        l.append(i)\n",
    "    \n",
    "print(l)"
   ]
  },
  {
   "cell_type": "code",
   "execution_count": 65,
   "id": "72fdfd76",
   "metadata": {},
   "outputs": [],
   "source": [
    "# delete remove pop"
   ]
  },
  {
   "cell_type": "code",
   "execution_count": 66,
   "id": "c171e8a1",
   "metadata": {},
   "outputs": [
    {
     "name": "stdout",
     "output_type": "stream",
     "text": [
      "['there', 'i', 'am', 'fine']\n"
     ]
    }
   ],
   "source": [
    "a = [\"hey\",\"there\",\"i\",\"am\",\"fine\"]\n",
    "del(a[0])\n",
    "print(a)"
   ]
  },
  {
   "cell_type": "code",
   "execution_count": 67,
   "id": "682e99b7",
   "metadata": {},
   "outputs": [
    {
     "name": "stdout",
     "output_type": "stream",
     "text": [
      "['am', 'fine']\n"
     ]
    }
   ],
   "source": [
    "a = [\"hey\",\"there\",\"i\",\"am\",\"fine\"]\n",
    "del(a[0:3])\n",
    "print(a)"
   ]
  },
  {
   "cell_type": "code",
   "execution_count": 68,
   "id": "cd02479e",
   "metadata": {},
   "outputs": [
    {
     "name": "stdout",
     "output_type": "stream",
     "text": [
      "['hey', 'i', 'am', 'fine']\n"
     ]
    }
   ],
   "source": [
    "a = [\"hey\",\"there\",\"i\",\"am\",\"fine\"]\n",
    "a.remove(\"there\")\n",
    "print(a)"
   ]
  },
  {
   "cell_type": "code",
   "execution_count": 70,
   "id": "f3eea4e9",
   "metadata": {},
   "outputs": [
    {
     "ename": "TypeError",
     "evalue": "list.remove() takes exactly one argument (2 given)",
     "output_type": "error",
     "traceback": [
      "\u001b[1;31m---------------------------------------------------------------------------\u001b[0m",
      "\u001b[1;31mTypeError\u001b[0m                                 Traceback (most recent call last)",
      "\u001b[1;32m~\\AppData\\Local\\Temp/ipykernel_2220/61294643.py\u001b[0m in \u001b[0;36m<module>\u001b[1;34m\u001b[0m\n\u001b[0;32m      1\u001b[0m \u001b[0ma\u001b[0m \u001b[1;33m=\u001b[0m \u001b[1;33m[\u001b[0m\u001b[1;34m\"hey\"\u001b[0m\u001b[1;33m,\u001b[0m\u001b[1;34m\"there\"\u001b[0m\u001b[1;33m,\u001b[0m\u001b[1;34m\"i\"\u001b[0m\u001b[1;33m,\u001b[0m\u001b[1;34m\"am\"\u001b[0m\u001b[1;33m,\u001b[0m\u001b[1;34m\"fine\"\u001b[0m\u001b[1;33m]\u001b[0m\u001b[1;33m\u001b[0m\u001b[1;33m\u001b[0m\u001b[0m\n\u001b[1;32m----> 2\u001b[1;33m \u001b[0ma\u001b[0m\u001b[1;33m.\u001b[0m\u001b[0mremove\u001b[0m\u001b[1;33m(\u001b[0m\u001b[1;34m\"there\"\u001b[0m\u001b[1;33m,\u001b[0m\u001b[1;34m\"hey\"\u001b[0m\u001b[1;33m)\u001b[0m  \u001b[1;31m# remove can take only one argument: or a single value can be removed\u001b[0m\u001b[1;33m\u001b[0m\u001b[1;33m\u001b[0m\u001b[0m\n\u001b[0m",
      "\u001b[1;31mTypeError\u001b[0m: list.remove() takes exactly one argument (2 given)"
     ]
    }
   ],
   "source": [
    "a = [\"hey\",\"there\",\"i\",\"am\",\"fine\"]\n",
    "a.remove(\"there\",\"hey\")  # remove can take only one argument: or a single value can be removed"
   ]
  },
  {
   "cell_type": "code",
   "execution_count": 72,
   "id": "ee3a2c6e",
   "metadata": {},
   "outputs": [
    {
     "name": "stdout",
     "output_type": "stream",
     "text": [
      "['there', 'i', 'am', 'fine', 'hey']\n"
     ]
    }
   ],
   "source": [
    "a = [\"hey\",\"there\",\"i\",\"am\",\"fine\",\"hey\"]\n",
    "a.remove(\"hey\")\n",
    "print(a)\n",
    "#although there are two 'hey', remove keyword removes only one of them.(the first one)"
   ]
  },
  {
   "cell_type": "code",
   "execution_count": 73,
   "id": "f8cdad54",
   "metadata": {},
   "outputs": [
    {
     "name": "stdout",
     "output_type": "stream",
     "text": [
      "['there', 'i', 'am', 'fine']\n"
     ]
    }
   ],
   "source": [
    "a = [\"hey\",\"there\",\"i\",\"am\",\"fine\",\"hey\"]\n",
    "for i in a:\n",
    "    if i == \"hey\":\n",
    "        a.remove(\"hey\")\n",
    "print(a)"
   ]
  },
  {
   "cell_type": "code",
   "execution_count": 75,
   "id": "0018f3d8",
   "metadata": {},
   "outputs": [
    {
     "name": "stdout",
     "output_type": "stream",
     "text": [
      "0\n",
      "5\n"
     ]
    }
   ],
   "source": [
    "a = [\"hey\",\"there\",\"i\",\"am\",\"fine\",\"hey\"] \n",
    "for i in range(len(a)):\n",
    "    if a[i] == \"hey\":\n",
    "        print(i)"
   ]
  },
  {
   "cell_type": "code",
   "execution_count": 77,
   "id": "d240a979",
   "metadata": {},
   "outputs": [
    {
     "name": "stdout",
     "output_type": "stream",
     "text": [
      "Enter the value to remove:hey\n",
      "['there', 'i', 'am', 'fine']\n"
     ]
    }
   ],
   "source": [
    "a = [\"hey\",\"there\",\"i\",\"am\",\"fine\",\"hey\"]\n",
    "search = input(\"Enter the value to remove:\")\n",
    "for i in a:\n",
    "    if i == search:\n",
    "        a.remove(search)\n",
    "print(a)\n"
   ]
  },
  {
   "cell_type": "code",
   "execution_count": 78,
   "id": "44078446",
   "metadata": {},
   "outputs": [
    {
     "name": "stdout",
     "output_type": "stream",
     "text": [
      "hey\n"
     ]
    }
   ],
   "source": [
    "#pop\n",
    "a = [\"hey\",\"there\",\"i\",\"am\",\"fine\",\"hey\"]\n",
    "b = a.pop(0)\n",
    "print(b)"
   ]
  },
  {
   "cell_type": "code",
   "execution_count": 79,
   "id": "bbf3da54",
   "metadata": {},
   "outputs": [
    {
     "name": "stdout",
     "output_type": "stream",
     "text": [
      "['hey', 'hey']\n",
      "['there', 'i', 'am', 'fine']\n"
     ]
    }
   ],
   "source": [
    "l = []\n",
    "a = [\"hey\",\"there\",\"i\",\"am\",\"fine\",\"hey\"]\n",
    "for i in a:\n",
    "    if i == \"hey\":\n",
    "        l.append(\"hey\")\n",
    "        a.remove(\"hey\")\n",
    "print(l)\n",
    "print(a)"
   ]
  },
  {
   "cell_type": "code",
   "execution_count": null,
   "id": "02647505",
   "metadata": {},
   "outputs": [],
   "source": [
    "# list inside list"
   ]
  }
 ],
 "metadata": {
  "kernelspec": {
   "display_name": "Python 3 (ipykernel)",
   "language": "python",
   "name": "python3"
  },
  "language_info": {
   "codemirror_mode": {
    "name": "ipython",
    "version": 3
   },
   "file_extension": ".py",
   "mimetype": "text/x-python",
   "name": "python",
   "nbconvert_exporter": "python",
   "pygments_lexer": "ipython3",
   "version": "3.9.7"
  }
 },
 "nbformat": 4,
 "nbformat_minor": 5
}
