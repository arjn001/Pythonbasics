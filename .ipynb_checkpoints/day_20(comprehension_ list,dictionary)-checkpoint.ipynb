{
 "cells": [
  {
   "cell_type": "code",
   "execution_count": 4,
   "id": "b66c50c5",
   "metadata": {},
   "outputs": [
    {
     "data": {
      "text/plain": [
       "[0, 1, 2, 3, 4, 5, 6, 7, 8, 9]"
      ]
     },
     "execution_count": 4,
     "metadata": {},
     "output_type": "execute_result"
    }
   ],
   "source": [
    "a = []\n",
    "for i in range(10):\n",
    "    a.append(i)\n",
    "\n",
    "a"
   ]
  },
  {
   "cell_type": "code",
   "execution_count": 5,
   "id": "a53f2623",
   "metadata": {},
   "outputs": [
    {
     "data": {
      "text/plain": [
       "[0, 1, 2, 3, 4, 5, 6, 7, 8, 9]"
      ]
     },
     "execution_count": 5,
     "metadata": {},
     "output_type": "execute_result"
    }
   ],
   "source": [
    "a = [i for i in range(10)]\n",
    "a"
   ]
  },
  {
   "cell_type": "code",
   "execution_count": 7,
   "id": "370d83be",
   "metadata": {},
   "outputs": [
    {
     "data": {
      "text/plain": [
       "[0, 2, 4, 6, 8]"
      ]
     },
     "execution_count": 7,
     "metadata": {},
     "output_type": "execute_result"
    }
   ],
   "source": [
    "a = []\n",
    "for i in range(10):\n",
    "    if i%2 == 0:\n",
    "        a.append(i)\n",
    "\n",
    "a"
   ]
  },
  {
   "cell_type": "code",
   "execution_count": 10,
   "id": "b328ea08",
   "metadata": {},
   "outputs": [
    {
     "data": {
      "text/plain": [
       "[2, 4, 6, 8, 10, 12, 14, 16, 18]"
      ]
     },
     "execution_count": 10,
     "metadata": {},
     "output_type": "execute_result"
    }
   ],
   "source": [
    "a = [i for i in range(1,20) if i%2 == 0]\n",
    "\n",
    "a"
   ]
  },
  {
   "cell_type": "code",
   "execution_count": 17,
   "id": "b8407616",
   "metadata": {},
   "outputs": [
    {
     "data": {
      "text/plain": [
       "['Apple', 'Ant']"
      ]
     },
     "execution_count": 17,
     "metadata": {},
     "output_type": "execute_result"
    }
   ],
   "source": [
    "a = [\"Apple\",\"ball\",\"Ant\",\"Cat\",\"Fish\"]\n",
    "a = [i for i in a if i[0] == \"A\"]\n",
    "a"
   ]
  },
  {
   "cell_type": "code",
   "execution_count": null,
   "id": "11a86f04",
   "metadata": {},
   "outputs": [],
   "source": [
    "a = [\"Apple\",\"ball\",\"Ant\",\"Cat\",\"Fish\"]"
   ]
  },
  {
   "cell_type": "code",
   "execution_count": 18,
   "id": "41cb4bf9",
   "metadata": {},
   "outputs": [
    {
     "data": {
      "text/plain": [
       "{1: 1, 2: 4, 3: 9, 4: 16, 5: 25, 6: 36, 7: 49, 8: 64, 9: 81}"
      ]
     },
     "execution_count": 18,
     "metadata": {},
     "output_type": "execute_result"
    }
   ],
   "source": [
    "a = {i:i**2 for i in range(1,10)}\n",
    "a"
   ]
  },
  {
   "cell_type": "code",
   "execution_count": 19,
   "id": "65559874",
   "metadata": {},
   "outputs": [],
   "source": [
    "# date and time package:"
   ]
  },
  {
   "cell_type": "code",
   "execution_count": 22,
   "id": "5ffd3231",
   "metadata": {},
   "outputs": [
    {
     "name": "stdout",
     "output_type": "stream",
     "text": [
      "2022-04-26 07:26:58.861446\n"
     ]
    }
   ],
   "source": [
    "import datetime\n",
    "x = datetime.datetime.now()\n",
    "\n",
    "print(x)"
   ]
  },
  {
   "cell_type": "code",
   "execution_count": 23,
   "id": "22cd89bd",
   "metadata": {},
   "outputs": [],
   "source": [
    "x = float(2.8)"
   ]
  },
  {
   "cell_type": "code",
   "execution_count": 24,
   "id": "e368bfda",
   "metadata": {},
   "outputs": [
    {
     "data": {
      "text/plain": [
       "2.8"
      ]
     },
     "execution_count": 24,
     "metadata": {},
     "output_type": "execute_result"
    }
   ],
   "source": [
    "x"
   ]
  },
  {
   "cell_type": "code",
   "execution_count": 25,
   "id": "037bb962",
   "metadata": {},
   "outputs": [],
   "source": [
    "x = 2.8"
   ]
  },
  {
   "cell_type": "code",
   "execution_count": 26,
   "id": "9f88f26b",
   "metadata": {},
   "outputs": [
    {
     "data": {
      "text/plain": [
       "2.8"
      ]
     },
     "execution_count": 26,
     "metadata": {},
     "output_type": "execute_result"
    }
   ],
   "source": [
    "x"
   ]
  },
  {
   "cell_type": "code",
   "execution_count": 27,
   "id": "be8ec6d4",
   "metadata": {},
   "outputs": [],
   "source": [
    "x = \"Hello\"[0]"
   ]
  },
  {
   "cell_type": "code",
   "execution_count": 28,
   "id": "84c50395",
   "metadata": {},
   "outputs": [
    {
     "data": {
      "text/plain": [
       "'H'"
      ]
     },
     "execution_count": 28,
     "metadata": {},
     "output_type": "execute_result"
    }
   ],
   "source": [
    "x\n"
   ]
  },
  {
   "cell_type": "code",
   "execution_count": 29,
   "id": "ff1fb0e0",
   "metadata": {},
   "outputs": [
    {
     "data": {
      "text/plain": [
       "['.ipynb_checkpoints',\n",
       " 'check.ipynb',\n",
       " 'data.csv',\n",
       " 'data.txt',\n",
       " 'day_10(tuple).ipynb',\n",
       " 'day_11(dictionary).ipynb',\n",
       " 'day_12(exception handeling).ipynb',\n",
       " 'day_12(set).ipynb',\n",
       " 'day_13(file handling).ipynb',\n",
       " 'day_14(pandas).ipynb',\n",
       " 'day_15(working with (xampp).ipynb',\n",
       " 'day_16(OOP).ipynb',\n",
       " 'day_17(OOP_CONT).ipynb',\n",
       " 'day_18.ipynb',\n",
       " 'day_19(OOP_cont.)..ipynb',\n",
       " 'day_2(if_else).ipynb',\n",
       " 'day_20(comprehension_ list,dictionary).ipynb',\n",
       " 'day_3.ipynb',\n",
       " 'day_4.ipynb',\n",
       " 'day_5.ipynb',\n",
       " 'day_6.ipynb',\n",
       " 'day_7(function).ipynb',\n",
       " 'day_8(function cont(global variable)..+ string formatting).ipynb',\n",
       " 'day_9(list).ipynb',\n",
       " 'first_class.ipynb',\n",
       " 'naya_data.csv',\n",
       " 'new_data.txt',\n",
       " 'record.csv',\n",
       " 'record.txt',\n",
       " 'Untitled.ipynb']"
      ]
     },
     "execution_count": 29,
     "metadata": {},
     "output_type": "execute_result"
    }
   ],
   "source": [
    "import os\n",
    "os.listdir()"
   ]
  },
  {
   "cell_type": "code",
   "execution_count": 31,
   "id": "206f09fa",
   "metadata": {},
   "outputs": [],
   "source": [
    "import os\n",
    "os.remove('Untitled.ipynb')"
   ]
  },
  {
   "cell_type": "code",
   "execution_count": 33,
   "id": "5e9332ba",
   "metadata": {},
   "outputs": [
    {
     "data": {
      "text/plain": [
       "'C:\\\\Users\\\\arjun\\\\class'"
      ]
     },
     "execution_count": 33,
     "metadata": {},
     "output_type": "execute_result"
    }
   ],
   "source": [
    "pwd"
   ]
  },
  {
   "cell_type": "code",
   "execution_count": 34,
   "id": "d6e46b7f",
   "metadata": {},
   "outputs": [
    {
     "data": {
      "text/plain": [
       "['.ipynb_checkpoints',\n",
       " 'check.ipynb',\n",
       " 'data.csv',\n",
       " 'data.txt',\n",
       " 'day_10(tuple).ipynb',\n",
       " 'day_11(dictionary).ipynb',\n",
       " 'day_12(exception handeling).ipynb',\n",
       " 'day_12(set).ipynb',\n",
       " 'day_13(file handling).ipynb',\n",
       " 'day_14(pandas).ipynb',\n",
       " 'day_15(working with (xampp).ipynb',\n",
       " 'day_16(OOP).ipynb',\n",
       " 'day_17(OOP_CONT).ipynb',\n",
       " 'day_18.ipynb',\n",
       " 'day_19(OOP_cont.)..ipynb',\n",
       " 'day_2(if_else).ipynb',\n",
       " 'day_20(comprehension_ list,dictionary).ipynb',\n",
       " 'day_3.ipynb',\n",
       " 'day_4.ipynb',\n",
       " 'day_5.ipynb',\n",
       " 'day_6.ipynb',\n",
       " 'day_7(function).ipynb',\n",
       " 'day_8(function cont(global variable)..+ string formatting).ipynb',\n",
       " 'day_9(list).ipynb',\n",
       " 'first_class.ipynb',\n",
       " 'naya_data.csv',\n",
       " 'new_data.txt',\n",
       " 'record.csv',\n",
       " 'record.txt']"
      ]
     },
     "execution_count": 34,
     "metadata": {},
     "output_type": "execute_result"
    }
   ],
   "source": [
    "os.listdir()"
   ]
  },
  {
   "cell_type": "code",
   "execution_count": 35,
   "id": "07da2308",
   "metadata": {},
   "outputs": [
    {
     "name": "stdout",
     "output_type": "stream",
     "text": [
      "hello\n"
     ]
    }
   ],
   "source": [
    "_myvar = \"hello\"\n",
    "print(_myvar)"
   ]
  },
  {
   "cell_type": "code",
   "execution_count": 36,
   "id": "1d836617",
   "metadata": {},
   "outputs": [
    {
     "ename": "SyntaxError",
     "evalue": "cannot assign to operator (Temp/ipykernel_6596/2994450807.py, line 1)",
     "output_type": "error",
     "traceback": [
      "\u001b[1;36m  File \u001b[1;32m\"C:\\Users\\arjun\\AppData\\Local\\Temp/ipykernel_6596/2994450807.py\"\u001b[1;36m, line \u001b[1;32m1\u001b[0m\n\u001b[1;33m    my-vr = \"hello\"\u001b[0m\n\u001b[1;37m    ^\u001b[0m\n\u001b[1;31mSyntaxError\u001b[0m\u001b[1;31m:\u001b[0m cannot assign to operator\n"
     ]
    }
   ],
   "source": [
    "my-vr = \"hello\"\n",
    "print(my-vr)"
   ]
  },
  {
   "cell_type": "code",
   "execution_count": 37,
   "id": "6b0783c0",
   "metadata": {},
   "outputs": [
    {
     "name": "stdout",
     "output_type": "stream",
     "text": [
      "Collecting mysql-connector\n",
      "  Downloading mysql-connector-2.2.9.tar.gz (11.9 MB)\n",
      "Building wheels for collected packages: mysql-connector\n",
      "  Building wheel for mysql-connector (setup.py): started\n",
      "  Building wheel for mysql-connector (setup.py): finished with status 'done'\n",
      "  Created wheel for mysql-connector: filename=mysql_connector-2.2.9-cp39-cp39-win_amd64.whl size=247961 sha256=3b96337fc23b511b3029ee3413fa797a85d251050c8930af05af010fdd05f504\n",
      "  Stored in directory: c:\\users\\arjun\\appdata\\local\\pip\\cache\\wheels\\7b\\14\\39\\5aad423666e827dfe9a1fbcd111ac17171e7c9865d570780ce\n",
      "Successfully built mysql-connector\n",
      "Installing collected packages: mysql-connector\n",
      "Successfully installed mysql-connector-2.2.9\n"
     ]
    }
   ],
   "source": [
    "!pip install mysql-connector"
   ]
  },
  {
   "cell_type": "code",
   "execution_count": 41,
   "id": "a0d02478",
   "metadata": {},
   "outputs": [],
   "source": [
    "import mysql.connector\n",
    "database = mysql.connector.connect(\n",
    "     host = \"localhost\",\n",
    "     user = \"root\",\n",
    "     password = \"\",\n",
    "     database = \"record\"\n",
    ")\n",
    "\n",
    "db = database.cursor()"
   ]
  },
  {
   "cell_type": "code",
   "execution_count": null,
   "id": "1e1e94bb",
   "metadata": {},
   "outputs": [],
   "source": []
  }
 ],
 "metadata": {
  "kernelspec": {
   "display_name": "Python 3 (ipykernel)",
   "language": "python",
   "name": "python3"
  },
  "language_info": {
   "codemirror_mode": {
    "name": "ipython",
    "version": 3
   },
   "file_extension": ".py",
   "mimetype": "text/x-python",
   "name": "python",
   "nbconvert_exporter": "python",
   "pygments_lexer": "ipython3",
   "version": "3.9.7"
  }
 },
 "nbformat": 4,
 "nbformat_minor": 5
}
