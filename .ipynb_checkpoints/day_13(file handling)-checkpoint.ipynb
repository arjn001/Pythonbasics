{
 "cells": [
  {
   "cell_type": "code",
   "execution_count": 1,
   "id": "414e3078",
   "metadata": {},
   "outputs": [],
   "source": [
    "# file\n",
    "# open(<file name>_<modes>)\n",
    "\n",
    "# modes\n",
    "# read - r\n",
    "# write - w\n",
    "# append - a\n",
    "# create - x\n"
   ]
  },
  {
   "cell_type": "code",
   "execution_count": 3,
   "id": "1dfe13c5",
   "metadata": {},
   "outputs": [
    {
     "name": "stdout",
     "output_type": "stream",
     "text": [
      "File already exists\n"
     ]
    }
   ],
   "source": [
    "try:\n",
    "    b = open('data.txt','x')\n",
    "    b.close()\n",
    "except:\n",
    "    print(\"File already exists\")"
   ]
  },
  {
   "cell_type": "code",
   "execution_count": 19,
   "id": "0da61856",
   "metadata": {},
   "outputs": [
    {
     "name": "stdout",
     "output_type": "stream",
     "text": [
      "you\n",
      "me \n",
      "she \n",
      "it \n",
      "they\n",
      "1\n",
      "2\n",
      "3\n",
      "\n",
      "<class 'str'>\n"
     ]
    }
   ],
   "source": [
    "b = open('data.txt','r') \n",
    "print(b.read())\n",
    "print(type(b.read()))\n",
    "b.close()"
   ]
  },
  {
   "cell_type": "code",
   "execution_count": 11,
   "id": "24e9d87e",
   "metadata": {},
   "outputs": [
    {
     "name": "stdout",
     "output_type": "stream",
     "text": [
      "you\n",
      "me \n",
      "she \n",
      "it \n",
      "they\n",
      "1\n",
      "2\n",
      "3\n",
      "\n"
     ]
    }
   ],
   "source": [
    "b = open('data.txt') # still gives output since read is the default mode:\n",
    "print(b.read())\n",
    "b.close()"
   ]
  },
  {
   "cell_type": "code",
   "execution_count": 12,
   "id": "1d1cb7c0",
   "metadata": {},
   "outputs": [
    {
     "name": "stdout",
     "output_type": "stream",
     "text": [
      "<class '_io.TextIOWrapper'>\n"
     ]
    }
   ],
   "source": [
    "print(type(b))"
   ]
  },
  {
   "cell_type": "code",
   "execution_count": 13,
   "id": "5eaf68b9",
   "metadata": {},
   "outputs": [
    {
     "ename": "ValueError",
     "evalue": "I/O operation on closed file.",
     "output_type": "error",
     "traceback": [
      "\u001b[1;31m---------------------------------------------------------------------------\u001b[0m",
      "\u001b[1;31mValueError\u001b[0m                                Traceback (most recent call last)",
      "\u001b[1;32m~\\AppData\\Local\\Temp/ipykernel_5408/2841652929.py\u001b[0m in \u001b[0;36m<module>\u001b[1;34m\u001b[0m\n\u001b[1;32m----> 1\u001b[1;33m \u001b[0mprint\u001b[0m\u001b[1;33m(\u001b[0m\u001b[0mtype\u001b[0m\u001b[1;33m(\u001b[0m\u001b[0mb\u001b[0m\u001b[1;33m.\u001b[0m\u001b[0mread\u001b[0m\u001b[1;33m(\u001b[0m\u001b[1;33m)\u001b[0m\u001b[1;33m)\u001b[0m\u001b[1;33m)\u001b[0m\u001b[1;33m\u001b[0m\u001b[1;33m\u001b[0m\u001b[0m\n\u001b[0m",
      "\u001b[1;31mValueError\u001b[0m: I/O operation on closed file."
     ]
    }
   ],
   "source": [
    "print(type(b.read()))"
   ]
  },
  {
   "cell_type": "code",
   "execution_count": 14,
   "id": "3eea41db",
   "metadata": {},
   "outputs": [
    {
     "ename": "ValueError",
     "evalue": "I/O operation on closed file.",
     "output_type": "error",
     "traceback": [
      "\u001b[1;31m---------------------------------------------------------------------------\u001b[0m",
      "\u001b[1;31mValueError\u001b[0m                                Traceback (most recent call last)",
      "\u001b[1;32m~\\AppData\\Local\\Temp/ipykernel_5408/2841652929.py\u001b[0m in \u001b[0;36m<module>\u001b[1;34m\u001b[0m\n\u001b[1;32m----> 1\u001b[1;33m \u001b[0mprint\u001b[0m\u001b[1;33m(\u001b[0m\u001b[0mtype\u001b[0m\u001b[1;33m(\u001b[0m\u001b[0mb\u001b[0m\u001b[1;33m.\u001b[0m\u001b[0mread\u001b[0m\u001b[1;33m(\u001b[0m\u001b[1;33m)\u001b[0m\u001b[1;33m)\u001b[0m\u001b[1;33m)\u001b[0m\u001b[1;33m\u001b[0m\u001b[1;33m\u001b[0m\u001b[0m\n\u001b[0m",
      "\u001b[1;31mValueError\u001b[0m: I/O operation on closed file."
     ]
    }
   ],
   "source": [
    "print(type(b.read()))"
   ]
  },
  {
   "cell_type": "code",
   "execution_count": 15,
   "id": "4184aa7d",
   "metadata": {},
   "outputs": [
    {
     "ename": "ValueError",
     "evalue": "I/O operation on closed file.",
     "output_type": "error",
     "traceback": [
      "\u001b[1;31m---------------------------------------------------------------------------\u001b[0m",
      "\u001b[1;31mValueError\u001b[0m                                Traceback (most recent call last)",
      "\u001b[1;32m~\\AppData\\Local\\Temp/ipykernel_5408/2841652929.py\u001b[0m in \u001b[0;36m<module>\u001b[1;34m\u001b[0m\n\u001b[1;32m----> 1\u001b[1;33m \u001b[0mprint\u001b[0m\u001b[1;33m(\u001b[0m\u001b[0mtype\u001b[0m\u001b[1;33m(\u001b[0m\u001b[0mb\u001b[0m\u001b[1;33m.\u001b[0m\u001b[0mread\u001b[0m\u001b[1;33m(\u001b[0m\u001b[1;33m)\u001b[0m\u001b[1;33m)\u001b[0m\u001b[1;33m)\u001b[0m\u001b[1;33m\u001b[0m\u001b[1;33m\u001b[0m\u001b[0m\n\u001b[0m",
      "\u001b[1;31mValueError\u001b[0m: I/O operation on closed file."
     ]
    }
   ],
   "source": [
    "print(type(b.read()))"
   ]
  },
  {
   "cell_type": "code",
   "execution_count": 16,
   "id": "f767b82a",
   "metadata": {},
   "outputs": [],
   "source": [
    "#readline() read()"
   ]
  },
  {
   "cell_type": "code",
   "execution_count": 18,
   "id": "1059dafa",
   "metadata": {},
   "outputs": [
    {
     "name": "stdout",
     "output_type": "stream",
     "text": [
      "you\n",
      "\n",
      "me \n",
      "\n"
     ]
    }
   ],
   "source": [
    "b = open('data.txt','r')\n",
    "print(b.readline())\n",
    "print(b.readline())\n",
    "\n",
    "b.close()"
   ]
  },
  {
   "cell_type": "code",
   "execution_count": 21,
   "id": "e4655ec3",
   "metadata": {},
   "outputs": [
    {
     "name": "stdout",
     "output_type": "stream",
     "text": [
      "['you', 'me ', 'she ', 'it ', 'they', '1', '2', '3']\n"
     ]
    }
   ],
   "source": [
    "b = open('data.txt','r')\n",
    "x = b.read()\n",
    "print(x.split('\\n'))\n",
    "b.close()"
   ]
  },
  {
   "cell_type": "code",
   "execution_count": 22,
   "id": "b6a21b63",
   "metadata": {},
   "outputs": [],
   "source": [
    "b = open('data.txt','r')\n",
    "x = b.read()\n",
    "y = x.split('\\n')\n",
    "b.close()"
   ]
  },
  {
   "cell_type": "code",
   "execution_count": 23,
   "id": "2291b561",
   "metadata": {},
   "outputs": [
    {
     "name": "stdout",
     "output_type": "stream",
     "text": [
      "Enter the line number to print:4\n",
      "it \n"
     ]
    }
   ],
   "source": [
    "line_no = int(input(\"Enter the line number to print:\"))\n",
    "print(y[line_no-1])"
   ]
  },
  {
   "cell_type": "code",
   "execution_count": 24,
   "id": "66b95716",
   "metadata": {},
   "outputs": [
    {
     "name": "stdout",
     "output_type": "stream",
     "text": [
      "Enter the line number to print:5\n",
      "they\n"
     ]
    }
   ],
   "source": [
    "b = open('data.txt','r')\n",
    "x = b.read()\n",
    "y = x.split('\\n')\n",
    "b.close()\n",
    "line_no = int(input(\"Enter the line number to print:\"))\n",
    "print(y[line_no-1])\n"
   ]
  },
  {
   "cell_type": "code",
   "execution_count": 25,
   "id": "bd678865",
   "metadata": {},
   "outputs": [],
   "source": [
    "#write"
   ]
  },
  {
   "cell_type": "code",
   "execution_count": 26,
   "id": "881d691f",
   "metadata": {},
   "outputs": [],
   "source": [
    "b = open('new_data.txt','w')\n",
    "b.write(\"hey there! I am doing it well!!\")\n",
    "b.close()"
   ]
  },
  {
   "cell_type": "code",
   "execution_count": 27,
   "id": "55d43e61",
   "metadata": {},
   "outputs": [],
   "source": [
    "b = open('data.txt','w')\n",
    "b.write(\"i am here with you!!\")\n",
    "b.close()  # overwrites previous data with the present data:"
   ]
  },
  {
   "cell_type": "code",
   "execution_count": 38,
   "id": "71f62c8a",
   "metadata": {},
   "outputs": [
    {
     "name": "stdout",
     "output_type": "stream",
     "text": [
      "Enter name:ARjun \n",
      "Enter address:Kathmandu\n",
      "Enter age:45\n",
      "Enter 'y' for more records:y\n",
      "Enter name:Shyam\n",
      "Enter address:Dharan\n",
      "Enter age:56\n",
      "Enter 'y' for more records:y\n",
      "Enter name:Sita\n",
      "Enter address:Sunsari\n",
      "Enter age:34\n",
      "Enter 'y' for more records:g\n",
      "ARjun ,Kathmandu,45\n",
      "Shyam,Dharan,56\n",
      "Sita,Sunsari,34\n",
      "\n"
     ]
    }
   ],
   "source": [
    "s = \"\"\n",
    "def record():\n",
    "        global s \n",
    "        name = input(\"Enter name:\")\n",
    "        add = input(\"Enter address:\")\n",
    "        age = input(\"Enter age:\")\n",
    "        c = f\"{name},{add},{age}\\n\"\n",
    "       \n",
    "        s = s + c\n",
    "        x = input(\"Enter 'y' for more records:\")\n",
    "        if x == 'y':\n",
    "            record()\n",
    "            \n",
    "            \n",
    "record()\n",
    "print(s)\n",
    "b = open('record.csv','w')\n",
    "b.write('Name,Address,Age\\n')\n",
    "b.write(s)\n",
    "b.close()"
   ]
  },
  {
   "cell_type": "code",
   "execution_count": 34,
   "id": "fe273fd5",
   "metadata": {},
   "outputs": [
    {
     "data": {
      "text/plain": [
       "'C:\\\\Users\\\\arjun\\\\class'"
      ]
     },
     "execution_count": 34,
     "metadata": {},
     "output_type": "execute_result"
    }
   ],
   "source": [
    "pwd"
   ]
  },
  {
   "cell_type": "code",
   "execution_count": 36,
   "id": "d143a96f",
   "metadata": {},
   "outputs": [
    {
     "data": {
      "text/plain": [
       "['.ipynb_checkpoints',\n",
       " 'check.ipynb',\n",
       " 'data.txt',\n",
       " 'day_10.ipynb',\n",
       " 'day_11(dictionary).ipynb',\n",
       " 'day_12(exception handeling).ipynb',\n",
       " 'day_12(set).ipynb',\n",
       " 'day_13(file handling).ipynb',\n",
       " 'day_2(if_else).ipynb',\n",
       " 'day_3.ipynb',\n",
       " 'day_4.ipynb',\n",
       " 'day_5.ipynb',\n",
       " 'day_6.ipynb',\n",
       " 'day_7(function).ipynb',\n",
       " 'day_8(function cont(global variable)..+ string formatting).ipynb',\n",
       " 'day_9(list).ipynb',\n",
       " 'first_class.ipynb',\n",
       " 'new_data.txt',\n",
       " 'record.csv',\n",
       " 'record.txt']"
      ]
     },
     "execution_count": 36,
     "metadata": {},
     "output_type": "execute_result"
    }
   ],
   "source": [
    "import os\n",
    "os.listdir()"
   ]
  },
  {
   "cell_type": "code",
   "execution_count": 39,
   "id": "f7c818b0",
   "metadata": {},
   "outputs": [
    {
     "name": "stdout",
     "output_type": "stream",
     "text": [
      "Name,Address,Age\n",
      "Arjun ,Kathmandu,45\n",
      "Shyam,Dharan,56\n",
      "Sita,Sunsari,34\n",
      "\n"
     ]
    }
   ],
   "source": [
    "b = open('record.csv','r')\n",
    "print(b.read())\n",
    "b.close()"
   ]
  },
  {
   "cell_type": "code",
   "execution_count": 45,
   "id": "93082007",
   "metadata": {},
   "outputs": [
    {
     "data": {
      "text/html": [
       "<div>\n",
       "<style scoped>\n",
       "    .dataframe tbody tr th:only-of-type {\n",
       "        vertical-align: middle;\n",
       "    }\n",
       "\n",
       "    .dataframe tbody tr th {\n",
       "        vertical-align: top;\n",
       "    }\n",
       "\n",
       "    .dataframe thead th {\n",
       "        text-align: right;\n",
       "    }\n",
       "</style>\n",
       "<table border=\"1\" class=\"dataframe\">\n",
       "  <thead>\n",
       "    <tr style=\"text-align: right;\">\n",
       "      <th></th>\n",
       "      <th>Name</th>\n",
       "      <th>Address</th>\n",
       "      <th>Age</th>\n",
       "    </tr>\n",
       "  </thead>\n",
       "  <tbody>\n",
       "    <tr>\n",
       "      <th>0</th>\n",
       "      <td>Arjun</td>\n",
       "      <td>Kathmandu</td>\n",
       "      <td>45</td>\n",
       "    </tr>\n",
       "    <tr>\n",
       "      <th>1</th>\n",
       "      <td>Shyam</td>\n",
       "      <td>Dharan</td>\n",
       "      <td>56</td>\n",
       "    </tr>\n",
       "    <tr>\n",
       "      <th>2</th>\n",
       "      <td>Sita</td>\n",
       "      <td>Sunsari</td>\n",
       "      <td>34</td>\n",
       "    </tr>\n",
       "  </tbody>\n",
       "</table>\n",
       "</div>"
      ],
      "text/plain": [
       "     Name    Address  Age\n",
       "0  Arjun   Kathmandu   45\n",
       "1   Shyam     Dharan   56\n",
       "2    Sita    Sunsari   34"
      ]
     },
     "execution_count": 45,
     "metadata": {},
     "output_type": "execute_result"
    }
   ],
   "source": [
    "import pandas as pd\n",
    "df = pd.read_csv('record.csv')\n",
    "df"
   ]
  },
  {
   "cell_type": "code",
   "execution_count": 1,
   "id": "d9f6eaf4",
   "metadata": {},
   "outputs": [
    {
     "data": {
      "text/plain": [
       "'C:\\\\Users\\\\arjun\\\\class'"
      ]
     },
     "execution_count": 1,
     "metadata": {},
     "output_type": "execute_result"
    }
   ],
   "source": [
    "pwd"
   ]
  },
  {
   "cell_type": "code",
   "execution_count": null,
   "id": "702a54ec",
   "metadata": {},
   "outputs": [],
   "source": []
  }
 ],
 "metadata": {
  "kernelspec": {
   "display_name": "Python 3 (ipykernel)",
   "language": "python",
   "name": "python3"
  },
  "language_info": {
   "codemirror_mode": {
    "name": "ipython",
    "version": 3
   },
   "file_extension": ".py",
   "mimetype": "text/x-python",
   "name": "python",
   "nbconvert_exporter": "python",
   "pygments_lexer": "ipython3",
   "version": "3.9.7"
  }
 },
 "nbformat": 4,
 "nbformat_minor": 5
}
