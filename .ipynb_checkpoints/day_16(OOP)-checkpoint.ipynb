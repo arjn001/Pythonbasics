{
 "cells": [
  {
   "cell_type": "code",
   "execution_count": 1,
   "id": "a180122c",
   "metadata": {},
   "outputs": [],
   "source": [
    "# class <class_name>:   #class\n",
    "#     <operations/methods>\n",
    "    \n",
    "\n",
    "# object = <class_name>() #object\n",
    "\n"
   ]
  },
  {
   "cell_type": "code",
   "execution_count": 2,
   "id": "b9585230",
   "metadata": {},
   "outputs": [
    {
     "name": "stdout",
     "output_type": "stream",
     "text": [
      "Hello World\n"
     ]
    }
   ],
   "source": [
    "class Hello: #naming convention : first letter being capital\n",
    "    print(\"Hello World\")\n",
    "\n",
    "obj = Hello() #initialization of class using object"
   ]
  },
  {
   "cell_type": "code",
   "execution_count": 4,
   "id": "d5486a3e",
   "metadata": {},
   "outputs": [
    {
     "ename": "TypeError",
     "evalue": "hell() takes 0 positional arguments but 1 was given",
     "output_type": "error",
     "traceback": [
      "\u001b[1;31m---------------------------------------------------------------------------\u001b[0m",
      "\u001b[1;31mTypeError\u001b[0m                                 Traceback (most recent call last)",
      "\u001b[1;32m~\\AppData\\Local\\Temp/ipykernel_360/2227173594.py\u001b[0m in \u001b[0;36m<module>\u001b[1;34m\u001b[0m\n\u001b[0;32m      4\u001b[0m \u001b[1;33m\u001b[0m\u001b[0m\n\u001b[0;32m      5\u001b[0m \u001b[0mobj\u001b[0m \u001b[1;33m=\u001b[0m \u001b[0mHello\u001b[0m\u001b[1;33m(\u001b[0m\u001b[1;33m)\u001b[0m\u001b[1;33m\u001b[0m\u001b[1;33m\u001b[0m\u001b[0m\n\u001b[1;32m----> 6\u001b[1;33m \u001b[0mobj\u001b[0m\u001b[1;33m.\u001b[0m\u001b[0mhell\u001b[0m\u001b[1;33m(\u001b[0m\u001b[1;33m)\u001b[0m\u001b[1;33m\u001b[0m\u001b[1;33m\u001b[0m\u001b[0m\n\u001b[0m",
      "\u001b[1;31mTypeError\u001b[0m: hell() takes 0 positional arguments but 1 was given"
     ]
    }
   ],
   "source": [
    "class Hello:\n",
    "    def hell():\n",
    "        print(\"Hello There\")\n",
    "\n",
    "obj = Hello()\n",
    "obj.hell()"
   ]
  },
  {
   "cell_type": "code",
   "execution_count": 5,
   "id": "011a2978",
   "metadata": {},
   "outputs": [
    {
     "name": "stdout",
     "output_type": "stream",
     "text": [
      "Hello There\n"
     ]
    }
   ],
   "source": [
    "class Hello:\n",
    "    def hell(self):\n",
    "        print(\"Hello There\")\n",
    "\n",
    "obj = Hello()\n",
    "obj.hell()"
   ]
  },
  {
   "cell_type": "code",
   "execution_count": 6,
   "id": "bc233573",
   "metadata": {},
   "outputs": [
    {
     "name": "stdout",
     "output_type": "stream",
     "text": [
      "Hello There\n"
     ]
    }
   ],
   "source": [
    "class Hello:\n",
    "    @staticmethod\n",
    "    def hell():\n",
    "        print(\"Hello There\")\n",
    "\n",
    "obj = Hello()\n",
    "obj.hell()"
   ]
  },
  {
   "cell_type": "code",
   "execution_count": 7,
   "id": "fe9d60c4",
   "metadata": {},
   "outputs": [
    {
     "name": "stdout",
     "output_type": "stream",
     "text": [
      "450\n"
     ]
    }
   ],
   "source": [
    "class Area:\n",
    "    def area(self,l,b):\n",
    "        a = l * b\n",
    "        print(a)\n",
    "\n",
    "obj = Area()\n",
    "obj.area(10,45)"
   ]
  },
  {
   "cell_type": "code",
   "execution_count": 10,
   "id": "d1820886",
   "metadata": {},
   "outputs": [
    {
     "name": "stdout",
     "output_type": "stream",
     "text": [
      "Length:3\n",
      "Breadth:4\n",
      "12\n"
     ]
    }
   ],
   "source": [
    "class Area:\n",
    "    @staticmethod\n",
    "    def area(l,b):\n",
    "        a = l * b\n",
    "        print(a)\n",
    "\n",
    "obj = Area()\n",
    "x = int(input(\"Length:\"))\n",
    "y = int(input(\"Breadth:\"))\n",
    "obj.area(l,b)"
   ]
  },
  {
   "cell_type": "code",
   "execution_count": null,
   "id": "1f63e2d6",
   "metadata": {},
   "outputs": [],
   "source": []
  }
 ],
 "metadata": {
  "kernelspec": {
   "display_name": "Python 3 (ipykernel)",
   "language": "python",
   "name": "python3"
  },
  "language_info": {
   "codemirror_mode": {
    "name": "ipython",
    "version": 3
   },
   "file_extension": ".py",
   "mimetype": "text/x-python",
   "name": "python",
   "nbconvert_exporter": "python",
   "pygments_lexer": "ipython3",
   "version": "3.9.7"
  }
 },
 "nbformat": 4,
 "nbformat_minor": 5
}
