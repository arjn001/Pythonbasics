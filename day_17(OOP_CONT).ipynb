{
 "cells": [
  {
   "cell_type": "code",
   "execution_count": 1,
   "id": "b0a06b67",
   "metadata": {},
   "outputs": [
    {
     "name": "stdout",
     "output_type": "stream",
     "text": [
      "450\n"
     ]
    }
   ],
   "source": [
    "class Area:\n",
    "    def area(self,l,b):\n",
    "        a = l * b\n",
    "        print(a)\n",
    "\n",
    "obj = Area()\n",
    "obj.area(10,45)"
   ]
  },
  {
   "cell_type": "code",
   "execution_count": 6,
   "id": "8ad5359d",
   "metadata": {},
   "outputs": [
    {
     "name": "stdout",
     "output_type": "stream",
     "text": [
      "Enter length:2\n",
      "Enter breadth: 3\n",
      "6\n"
     ]
    }
   ],
   "source": [
    "class Area:\n",
    "    def __init__(self,l,b):\n",
    "        self.l = l\n",
    "        self.b = b\n",
    "        \n",
    "    def area(self):\n",
    "        a = self.l*self.b\n",
    "        print(a)\n",
    "        \n",
    "l = int(input(\"Enter length:\"))\n",
    "b = int(input(\"Enter breadth: \"))\n",
    "obj = Area(l,b)\n",
    "obj.area()"
   ]
  },
  {
   "cell_type": "code",
   "execution_count": 8,
   "id": "db253340",
   "metadata": {},
   "outputs": [
    {
     "name": "stdout",
     "output_type": "stream",
     "text": [
      "Enter length:2\n",
      "Enter breadth: 3\n"
     ]
    },
    {
     "ename": "TypeError",
     "evalue": "__init__() missing 2 required positional arguments: 'l' and 'b'",
     "output_type": "error",
     "traceback": [
      "\u001b[1;31m---------------------------------------------------------------------------\u001b[0m",
      "\u001b[1;31mTypeError\u001b[0m                                 Traceback (most recent call last)",
      "\u001b[1;32m~\\AppData\\Local\\Temp/ipykernel_1132/3475976154.py\u001b[0m in \u001b[0;36m<module>\u001b[1;34m\u001b[0m\n\u001b[0;32m     10\u001b[0m \u001b[0ml\u001b[0m \u001b[1;33m=\u001b[0m \u001b[0mint\u001b[0m\u001b[1;33m(\u001b[0m\u001b[0minput\u001b[0m\u001b[1;33m(\u001b[0m\u001b[1;34m\"Enter length:\"\u001b[0m\u001b[1;33m)\u001b[0m\u001b[1;33m)\u001b[0m\u001b[1;33m\u001b[0m\u001b[1;33m\u001b[0m\u001b[0m\n\u001b[0;32m     11\u001b[0m \u001b[0mb\u001b[0m \u001b[1;33m=\u001b[0m \u001b[0mint\u001b[0m\u001b[1;33m(\u001b[0m\u001b[0minput\u001b[0m\u001b[1;33m(\u001b[0m\u001b[1;34m\"Enter breadth: \"\u001b[0m\u001b[1;33m)\u001b[0m\u001b[1;33m)\u001b[0m\u001b[1;33m\u001b[0m\u001b[1;33m\u001b[0m\u001b[0m\n\u001b[1;32m---> 12\u001b[1;33m \u001b[0mobj\u001b[0m \u001b[1;33m=\u001b[0m \u001b[0mArea\u001b[0m\u001b[1;33m(\u001b[0m\u001b[1;33m)\u001b[0m\u001b[1;33m\u001b[0m\u001b[1;33m\u001b[0m\u001b[0m\n\u001b[0m\u001b[0;32m     13\u001b[0m \u001b[0mobj\u001b[0m\u001b[1;33m.\u001b[0m\u001b[0marea\u001b[0m\u001b[1;33m(\u001b[0m\u001b[1;33m)\u001b[0m\u001b[1;33m\u001b[0m\u001b[1;33m\u001b[0m\u001b[0m\n",
      "\u001b[1;31mTypeError\u001b[0m: __init__() missing 2 required positional arguments: 'l' and 'b'"
     ]
    }
   ],
   "source": [
    "class Area:\n",
    "    def __init__(self,l,b):\n",
    "        self.l = l\n",
    "        self.b = b\n",
    "        \n",
    "    def area(here):\n",
    "        a = here.l*here.b\n",
    "        print(a)\n",
    "        \n",
    "l = int(input(\"Enter length:\"))\n",
    "b = int(input(\"Enter breadth: \"))\n",
    "obj = Area()\n",
    "obj.area()"
   ]
  },
  {
   "cell_type": "code",
   "execution_count": 3,
   "id": "86322efb",
   "metadata": {},
   "outputs": [
    {
     "name": "stdout",
     "output_type": "stream",
     "text": [
      "Enter length:2\n",
      "Enter breadth: 3\n",
      "Enter height: 4\n",
      "24\n",
      "6\n"
     ]
    }
   ],
   "source": [
    "class cal:\n",
    "    def __init__(self,l,b,h):\n",
    "        self.l = l\n",
    "        self.b = b\n",
    "        self.h = h\n",
    "    def area(self):\n",
    "        a = self.l*self.b\n",
    "        print(a)\n",
    "\n",
    "    def volume(self):\n",
    "        v = self.l*self.b*self.h\n",
    "        print(v)\n",
    "        \n",
    "        \n",
    "l = int(input(\"Enter length:\"))\n",
    "b = int(input(\"Enter breadth: \"))\n",
    "h = int(input(\"Enter height: \"))\n",
    "obj = cal(l,b,h)\n",
    "obj.volume()\n",
    "obj.area()"
   ]
  },
  {
   "cell_type": "code",
   "execution_count": 9,
   "id": "cb912757",
   "metadata": {},
   "outputs": [
    {
     "name": "stdout",
     "output_type": "stream",
     "text": [
      "Ram 34\n",
      "Ram 34\n",
      "Ram 34\n"
     ]
    }
   ],
   "source": [
    "class Info:\n",
    "    def __init__(self,name,age,add):\n",
    "        self.name = name\n",
    "        self.age = age\n",
    "        self.add = add\n",
    "        \n",
    "    def __str__(self):\n",
    "        return f\"{self.name} {self.age}\"\n",
    "\n",
    "obj = Info(\"Ram\",34,\"Kathmandu\")\n",
    "print(obj)\n",
    "print(obj.__str__())\n",
    "print(str(obj))"
   ]
  },
  {
   "cell_type": "code",
   "execution_count": 5,
   "id": "511c72ec",
   "metadata": {},
   "outputs": [
    {
     "name": "stdout",
     "output_type": "stream",
     "text": [
      "<class '__main__.Info'>\n"
     ]
    }
   ],
   "source": [
    "print(type(obj))"
   ]
  },
  {
   "cell_type": "code",
   "execution_count": null,
   "id": "42c66814",
   "metadata": {},
   "outputs": [],
   "source": [
    "# polymorphism:\n",
    "class parrot:\n",
    "    def fly(self):\n",
    "        print(\"Parrot can't fly!\")\n",
    "    def swim(self):\n",
    "        print()"
   ]
  }
 ],
 "metadata": {
  "kernelspec": {
   "display_name": "Python 3 (ipykernel)",
   "language": "python",
   "name": "python3"
  },
  "language_info": {
   "codemirror_mode": {
    "name": "ipython",
    "version": 3
   },
   "file_extension": ".py",
   "mimetype": "text/x-python",
   "name": "python",
   "nbconvert_exporter": "python",
   "pygments_lexer": "ipython3",
   "version": "3.9.7"
  }
 },
 "nbformat": 4,
 "nbformat_minor": 5
}
