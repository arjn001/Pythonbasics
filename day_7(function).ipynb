{
 "cells": [
  {
   "cell_type": "code",
   "execution_count": 1,
   "id": "214660b2",
   "metadata": {},
   "outputs": [],
   "source": [
    "#function"
   ]
  },
  {
   "cell_type": "code",
   "execution_count": 2,
   "id": "bf7966c2",
   "metadata": {},
   "outputs": [],
   "source": [
    "# def <function name>():\n",
    "    \n",
    "#     <operations>\n",
    "#     <function name>()"
   ]
  },
  {
   "cell_type": "code",
   "execution_count": 4,
   "id": "2996f973",
   "metadata": {},
   "outputs": [
    {
     "name": "stdout",
     "output_type": "stream",
     "text": [
      "You are wonderful\n"
     ]
    }
   ],
   "source": [
    "def she():\n",
    "    print(\"You are wonderful\")\n",
    "    \n",
    "    \n",
    "she()"
   ]
  },
  {
   "cell_type": "code",
   "execution_count": 9,
   "id": "bb73bfd1",
   "metadata": {},
   "outputs": [
    {
     "name": "stdout",
     "output_type": "stream",
     "text": [
      "Enter length:6\n",
      "Enter breadth:7\n",
      "42\n"
     ]
    }
   ],
   "source": [
    "def cal():\n",
    "    l = int(input(\"Enter length:\")) #local variable: defined within the function\n",
    "    b = int(input(\"Enter breadth:\"))# local variable\n",
    "    a = l*b                         #local variable\n",
    "    print(a)\n",
    "    \n",
    "cal()\n",
    "\n"
   ]
  },
  {
   "cell_type": "code",
   "execution_count": 10,
   "id": "890e90b3",
   "metadata": {},
   "outputs": [
    {
     "name": "stdout",
     "output_type": "stream",
     "text": [
      "Enter length:6\n",
      "Enter breadth:7\n",
      "42\n"
     ]
    }
   ],
   "source": [
    "l = int(input(\"Enter length:\")) #global variable: defined outside the function(can be used by multiple functions!)\n",
    "b = int(input(\"Enter breadth:\"))\n",
    "def cal():\n",
    "    a = l*b\n",
    "    print(a)\n",
    "cal()"
   ]
  },
  {
   "cell_type": "code",
   "execution_count": 12,
   "id": "4a01585c",
   "metadata": {},
   "outputs": [
    {
     "name": "stdout",
     "output_type": "stream",
     "text": [
      "Enter length:6\n",
      "Enter breadth:7\n",
      "Enter height:7\n",
      "42\n",
      "294\n"
     ]
    }
   ],
   "source": [
    "l = int(input(\"Enter length:\")) #global variable: defined outside the function(can be used by multiple functions!)\n",
    "b = int(input(\"Enter breadth:\"))\n",
    "h = int(input(\"Enter height:\"))\n",
    "\n",
    "def area():\n",
    "    a = l*b\n",
    "    print(a)\n",
    "\n",
    "def volume():\n",
    "    v = l*b*h\n",
    "    print(v)\n",
    "    \n",
    "area()\n",
    "volume()"
   ]
  },
  {
   "cell_type": "code",
   "execution_count": 16,
   "id": "739d38af",
   "metadata": {},
   "outputs": [],
   "source": [
    "#function with argument"
   ]
  },
  {
   "cell_type": "code",
   "execution_count": 18,
   "id": "01f35850",
   "metadata": {},
   "outputs": [
    {
     "name": "stdout",
     "output_type": "stream",
     "text": [
      "20\n"
     ]
    }
   ],
   "source": [
    "def cal(l,b):\n",
    "    a = l*b\n",
    "    print(a)\n",
    "    \n",
    "cal(10,2)"
   ]
  },
  {
   "cell_type": "code",
   "execution_count": 2,
   "id": "ee90ff93",
   "metadata": {},
   "outputs": [
    {
     "name": "stdout",
     "output_type": "stream",
     "text": [
      "Enter length:3\n",
      "Enter breadth:4\n",
      "12\n"
     ]
    }
   ],
   "source": [
    "def area(x,y):\n",
    "    a = x*y\n",
    "    print(a)\n",
    "l = int(input(\"Enter length:\"))\n",
    "b = int(input(\"Enter breadth:\"))\n",
    "area(l,b)"
   ]
  },
  {
   "cell_type": "code",
   "execution_count": 24,
   "id": "b8cd135b",
   "metadata": {},
   "outputs": [
    {
     "name": "stdout",
     "output_type": "stream",
     "text": [
      "Python\n",
      "C++\n"
     ]
    }
   ],
   "source": [
    "def lang(lan=\"Python\"):\n",
    "    print(lan)\n",
    "\n",
    "lang()\n",
    "lang(\"C++\")"
   ]
  },
  {
   "cell_type": "code",
   "execution_count": 25,
   "id": "64cb4f14",
   "metadata": {},
   "outputs": [],
   "source": [
    "#return type"
   ]
  },
  {
   "cell_type": "code",
   "execution_count": 26,
   "id": "c83263d2",
   "metadata": {},
   "outputs": [
    {
     "name": "stdout",
     "output_type": "stream",
     "text": [
      "HEYYY\n"
     ]
    }
   ],
   "source": [
    "def hi():\n",
    "    return \"HEYYY\"\n",
    "print(hi())"
   ]
  },
  {
   "cell_type": "code",
   "execution_count": 27,
   "id": "3dc5581c",
   "metadata": {},
   "outputs": [
    {
     "data": {
      "text/plain": [
       "'HEYYY'"
      ]
     },
     "execution_count": 27,
     "metadata": {},
     "output_type": "execute_result"
    }
   ],
   "source": [
    "def hi():\n",
    "    return \"HEYYY\"\n",
    "\n",
    "hi()"
   ]
  },
  {
   "cell_type": "code",
   "execution_count": 32,
   "id": "e78ccafe",
   "metadata": {},
   "outputs": [
    {
     "name": "stdout",
     "output_type": "stream",
     "text": [
      "HEYYY There\n"
     ]
    }
   ],
   "source": [
    "def hi():\n",
    "    return \"HEYYY \"\n",
    "x = hi()\n",
    "print(x+\"There\")"
   ]
  },
  {
   "cell_type": "code",
   "execution_count": 33,
   "id": "017807db",
   "metadata": {},
   "outputs": [
    {
     "name": "stdout",
     "output_type": "stream",
     "text": [
      "50\n"
     ]
    }
   ],
   "source": [
    "def area():\n",
    "    l = 10\n",
    "    b = 5\n",
    "    return l*b\n",
    "x = area()\n",
    "print(x)"
   ]
  },
  {
   "cell_type": "code",
   "execution_count": 34,
   "id": "6d7a0f48",
   "metadata": {},
   "outputs": [
    {
     "name": "stdout",
     "output_type": "stream",
     "text": [
      "600\n"
     ]
    }
   ],
   "source": [
    "def area():\n",
    "    l = 10\n",
    "    b = 5\n",
    "    return l*b\n",
    "x = area()\n",
    "h = 12\n",
    "v = x * h\n",
    "print(v)"
   ]
  },
  {
   "cell_type": "code",
   "execution_count": 37,
   "id": "f2ac4832",
   "metadata": {},
   "outputs": [
    {
     "name": "stdout",
     "output_type": "stream",
     "text": [
      "arjun she he\n"
     ]
    }
   ],
   "source": [
    "def name(a,b,c):\n",
    "    print(a,b,c)\n",
    "name(\"arjun\",\"she\",\"he\")"
   ]
  },
  {
   "cell_type": "code",
   "execution_count": 39,
   "id": "0b37b70b",
   "metadata": {},
   "outputs": [
    {
     "name": "stdout",
     "output_type": "stream",
     "text": [
      "50 300\n"
     ]
    }
   ],
   "source": [
    "def cal():\n",
    "    l = 10\n",
    "    b = 5\n",
    "    h = 6 \n",
    "    a = l*b\n",
    "    v = a * h\n",
    "    \n",
    "    return a,v\n",
    "a,v = cal()\n",
    "print(a,v)"
   ]
  },
  {
   "cell_type": "code",
   "execution_count": 40,
   "id": "576434f0",
   "metadata": {},
   "outputs": [
    {
     "name": "stdout",
     "output_type": "stream",
     "text": [
      "l:5\n",
      "b:6\n",
      "h:1\n",
      "30\n"
     ]
    }
   ],
   "source": [
    "def cal(x,y):\n",
    "    a = x*y\n",
    "    return a\n",
    "l = int(input(\"l:\"))\n",
    "b = int(input(\"b:\"))\n",
    "h = int(input(\"h:\"))\n",
    "\n",
    "area = cal(l,b)\n",
    "volume = area * h\n",
    "print(volume)"
   ]
  },
  {
   "cell_type": "code",
   "execution_count": null,
   "id": "60e01454",
   "metadata": {},
   "outputs": [],
   "source": [
    "def hi():\n",
    "    print(\"YOU\")\n",
    "    hi()\n",
    "hi()"
   ]
  },
  {
   "cell_type": "code",
   "execution_count": 2,
   "id": "b2fe9de2",
   "metadata": {},
   "outputs": [
    {
     "name": "stdout",
     "output_type": "stream",
     "text": [
      "Enter principal:50\n",
      "Enter rate:1\n",
      "Enter time:3\n",
      "1.5\n",
      "Enter y for more calculation:y\n",
      "Enter principal:56\n",
      "Enter rate:23\n",
      "Enter time:12\n",
      "154.56\n",
      "Enter y for more calculation:j\n"
     ]
    }
   ],
   "source": [
    "def cal():\n",
    "    p = int(input(\"Enter principal:\"))\n",
    "    r = float(input(\"Enter rate:\"))\n",
    "    t = float(input(\"Enter time:\"))\n",
    "    i = p*t*r/100\n",
    "    print(i)\n",
    "    x = input(\"Enter y for more calculation:\")\n",
    "    if x == \"y\":\n",
    "        cal()\n",
    "cal()"
   ]
  }
 ],
 "metadata": {
  "kernelspec": {
   "display_name": "Python 3 (ipykernel)",
   "language": "python",
   "name": "python3"
  },
  "language_info": {
   "codemirror_mode": {
    "name": "ipython",
    "version": 3
   },
   "file_extension": ".py",
   "mimetype": "text/x-python",
   "name": "python",
   "nbconvert_exporter": "python",
   "pygments_lexer": "ipython3",
   "version": "3.9.7"
  }
 },
 "nbformat": 4,
 "nbformat_minor": 5
}
