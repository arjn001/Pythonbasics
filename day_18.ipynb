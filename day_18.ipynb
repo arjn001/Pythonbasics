{
 "cells": [
  {
   "cell_type": "code",
   "execution_count": 1,
   "id": "b12ae390",
   "metadata": {},
   "outputs": [],
   "source": [
    "# inheritance"
   ]
  },
  {
   "cell_type": "code",
   "execution_count": 2,
   "id": "60358db5",
   "metadata": {},
   "outputs": [],
   "source": [
    "# class A:\n",
    "#     pass\n",
    "\n",
    "\n",
    "# class B(A):\n",
    "#     pass\n",
    "\n",
    "# obj = B()"
   ]
  },
  {
   "cell_type": "code",
   "execution_count": 3,
   "id": "c0bb37fc",
   "metadata": {},
   "outputs": [],
   "source": [
    "# inheritacne need to use methods"
   ]
  },
  {
   "cell_type": "code",
   "execution_count": 7,
   "id": "c510b09a",
   "metadata": {},
   "outputs": [
    {
     "name": "stdout",
     "output_type": "stream",
     "text": [
      "Enter name:Arjun\n",
      "Enter age:19\n",
      "Enter address:Gulmi\n",
      "Hello there. I am Arjun. I am from Gulmi. I am 19\n"
     ]
    }
   ],
   "source": [
    "class Info:\n",
    "    def __init__(self):\n",
    "        self.name = input(\"Enter name:\")\n",
    "        self.age = int(input(\"Enter age:\"))\n",
    "        self.add = input((\"Enter address:\"))\n",
    "        \n",
    "class Data(Info):\n",
    "    def data(self):\n",
    "        print(f\"Hello there. I am {self.name}. I am from {self.add}. I am {self.age}\")\n",
    "obj = Data()\n",
    "obj.data()"
   ]
  },
  {
   "cell_type": "code",
   "execution_count": 14,
   "id": "48b8f069",
   "metadata": {},
   "outputs": [
    {
     "name": "stdout",
     "output_type": "stream",
     "text": [
      "Name:Arjun\n",
      "Enter age:45\n",
      "Enter address:fdf\n",
      "Hello there. I am Arjun. I am from fdf. I am 45\n"
     ]
    }
   ],
   "source": [
    "class Info:\n",
    "    def __init__(self,name,age,add):\n",
    "        self.name = name\n",
    "        self.age = age\n",
    "        self.add = add\n",
    "        \n",
    "class Data(Info):\n",
    "    def data(self):\n",
    "        print(f\"Hello there. I am {self.name}. I am from {self.add}. I am {self.age}\")\n",
    "\n",
    "name = input(\"Name:\")   \n",
    "age = int(input(\"Enter age:\"))\n",
    "add = input(\"Enter address:\")\n",
    "        \n",
    "obj = Data(name,age,add)\n",
    "obj.data()"
   ]
  },
  {
   "cell_type": "code",
   "execution_count": 17,
   "id": "ed38bf4b",
   "metadata": {},
   "outputs": [
    {
     "name": "stdout",
     "output_type": "stream",
     "text": [
      "Name:Arjun\n",
      "Enter age:56\n",
      "Enter address:fds\n"
     ]
    },
    {
     "ename": "TypeError",
     "evalue": "__init__() missing 2 required positional arguments: 'age' and 'add'",
     "output_type": "error",
     "traceback": [
      "\u001b[1;31m---------------------------------------------------------------------------\u001b[0m",
      "\u001b[1;31mTypeError\u001b[0m                                 Traceback (most recent call last)",
      "\u001b[1;32m~\\AppData\\Local\\Temp/ipykernel_2128/3989926082.py\u001b[0m in \u001b[0;36m<module>\u001b[1;34m\u001b[0m\n\u001b[0;32m     17\u001b[0m \u001b[0madd\u001b[0m \u001b[1;33m=\u001b[0m \u001b[0minput\u001b[0m\u001b[1;33m(\u001b[0m\u001b[1;34m\"Enter address:\"\u001b[0m\u001b[1;33m)\u001b[0m\u001b[1;33m\u001b[0m\u001b[1;33m\u001b[0m\u001b[0m\n\u001b[0;32m     18\u001b[0m \u001b[1;33m\u001b[0m\u001b[0m\n\u001b[1;32m---> 19\u001b[1;33m \u001b[0mobj\u001b[0m \u001b[1;33m=\u001b[0m \u001b[0mData\u001b[0m\u001b[1;33m(\u001b[0m\u001b[0mname\u001b[0m\u001b[1;33m,\u001b[0m\u001b[0mage\u001b[0m\u001b[1;33m,\u001b[0m\u001b[0madd\u001b[0m\u001b[1;33m)\u001b[0m\u001b[1;33m\u001b[0m\u001b[1;33m\u001b[0m\u001b[0m\n\u001b[0m\u001b[0;32m     20\u001b[0m \u001b[0mobj\u001b[0m\u001b[1;33m.\u001b[0m\u001b[0mdata\u001b[0m\u001b[1;33m(\u001b[0m\u001b[1;33m)\u001b[0m\u001b[1;33m\u001b[0m\u001b[1;33m\u001b[0m\u001b[0m\n",
      "\u001b[1;32m~\\AppData\\Local\\Temp/ipykernel_2128/3989926082.py\u001b[0m in \u001b[0;36m__init__\u001b[1;34m(self, name, age, add)\u001b[0m\n\u001b[0;32m      8\u001b[0m         \u001b[0mself\u001b[0m\u001b[1;33m.\u001b[0m\u001b[0mname\u001b[0m \u001b[1;33m=\u001b[0m \u001b[0mname\u001b[0m\u001b[1;33m\u001b[0m\u001b[1;33m\u001b[0m\u001b[0m\n\u001b[0;32m      9\u001b[0m         \u001b[0mself\u001b[0m\u001b[1;33m.\u001b[0m\u001b[0mage\u001b[0m \u001b[1;33m=\u001b[0m \u001b[0mage\u001b[0m\u001b[1;33m\u001b[0m\u001b[1;33m\u001b[0m\u001b[0m\n\u001b[1;32m---> 10\u001b[1;33m         \u001b[0mInfo\u001b[0m\u001b[1;33m.\u001b[0m\u001b[0m__init__\u001b[0m\u001b[1;33m(\u001b[0m\u001b[0mself\u001b[0m\u001b[1;33m,\u001b[0m\u001b[0madd\u001b[0m\u001b[1;33m)\u001b[0m\u001b[1;33m\u001b[0m\u001b[1;33m\u001b[0m\u001b[0m\n\u001b[0m\u001b[0;32m     11\u001b[0m \u001b[1;33m\u001b[0m\u001b[0m\n\u001b[0;32m     12\u001b[0m     \u001b[1;32mdef\u001b[0m \u001b[0mdata\u001b[0m\u001b[1;33m(\u001b[0m\u001b[0mself\u001b[0m\u001b[1;33m)\u001b[0m\u001b[1;33m:\u001b[0m\u001b[1;33m\u001b[0m\u001b[1;33m\u001b[0m\u001b[0m\n",
      "\u001b[1;31mTypeError\u001b[0m: __init__() missing 2 required positional arguments: 'age' and 'add'"
     ]
    }
   ],
   "source": [
    "class Info:\n",
    "    def __init__(self,name,age,add):\n",
    "        \n",
    "        self.add = add\n",
    "        print(f\"I am from {self.add}\")\n",
    "class Data(Info):\n",
    "    def __init__(self,name,age,add):\n",
    "        self.name = name\n",
    "        self.age = age\n",
    "        Info.__init__(self,add)\n",
    "        \n",
    "    def data(self):\n",
    "        print(f\"Hello there. I am {self.name}. I am from {self.add}. I am {self.age}\")\n",
    "\n",
    "name = input(\"Name:\")   \n",
    "age = int(input(\"Enter age:\"))\n",
    "add = input(\"Enter address:\")\n",
    "        \n",
    "obj = Data(name,age,add)\n",
    "obj.data()"
   ]
  },
  {
   "cell_type": "code",
   "execution_count": 3,
   "id": "43d57ded",
   "metadata": {},
   "outputs": [
    {
     "name": "stdout",
     "output_type": "stream",
     "text": [
      "Name:Arjun\n",
      "Enter age:19\n",
      "Enter address: Gulmi\n",
      "Hello world I am Arjun.I am from Gulmi.I am 19\n",
      "I am from Gulmi\n"
     ]
    }
   ],
   "source": [
    "class Info:\n",
    "    def __init__(self,add):\n",
    "        self.add = add\n",
    "    def ad(self):\n",
    "        print(f\"I am from {self.add}\")\n",
    "\n",
    "class Data(Info):\n",
    "    def __init__(self,name,age,add):\n",
    "        self.name = name\n",
    "        self.age = age\n",
    "        Info.__init__(self,add)\n",
    "        \n",
    "    def data(self):\n",
    "        print(f\"Hello world I am {self.name}.I am from {self.add}.I am {self.age}\")\n",
    "    \n",
    "\n",
    "name = input(\"Name:\")\n",
    "age = int(input(\"Enter age:\"))\n",
    "add = input(\"Enter address: \")\n",
    "\n",
    "obj = Data(name,age,add)\n",
    "obj.data()\n",
    "obj.ad()"
   ]
  },
  {
   "cell_type": "code",
   "execution_count": 4,
   "id": "28450284",
   "metadata": {},
   "outputs": [],
   "source": [
    "class A:\n",
    "    pass\n",
    "class B(A):\n",
    "    pass\n",
    "class C(A):\n",
    "    pass"
   ]
  },
  {
   "cell_type": "code",
   "execution_count": null,
   "id": "661aa3a7",
   "metadata": {},
   "outputs": [],
   "source": []
  }
 ],
 "metadata": {
  "kernelspec": {
   "display_name": "Python 3 (ipykernel)",
   "language": "python",
   "name": "python3"
  },
  "language_info": {
   "codemirror_mode": {
    "name": "ipython",
    "version": 3
   },
   "file_extension": ".py",
   "mimetype": "text/x-python",
   "name": "python",
   "nbconvert_exporter": "python",
   "pygments_lexer": "ipython3",
   "version": "3.9.7"
  }
 },
 "nbformat": 4,
 "nbformat_minor": 5
}
