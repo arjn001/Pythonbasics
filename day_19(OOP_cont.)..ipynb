{
 "cells": [
  {
   "cell_type": "code",
   "execution_count": 2,
   "id": "2f6fdc48",
   "metadata": {},
   "outputs": [
    {
     "name": "stdout",
     "output_type": "stream",
     "text": [
      "Hello world I am Ram. I am from KAth. I am 32\n",
      "Hello I am from KAth. My name is Ram\n"
     ]
    }
   ],
   "source": [
    "class Info:\n",
    "    def __init__(self,add):\n",
    "        self.add = add\n",
    "    def ad(self):\n",
    "        print(f\"Hello I am from {self.add}. My name is {self.name}\")\n",
    "        \n",
    "class Org(Info):\n",
    "    def __init__(self,age,add):\n",
    "        self.age = age\n",
    "        Info.__init__(self,add)\n",
    "\n",
    "class Data(Org):\n",
    "    def __init__ (self,name,age,add):\n",
    "        self.name = name\n",
    "        Org.__init__(self,age,add)\n",
    "    def data(self):\n",
    "        print(f\"Hello world I am {self.name}. I am from {self.add}. I am {self.age}\")\n",
    "        \n",
    "obj = Data(\"Ram\",32,\"KAth\")\n",
    "obj.data()\n",
    "obj.ad()"
   ]
  },
  {
   "cell_type": "code",
   "execution_count": 11,
   "id": "cf9cb922",
   "metadata": {},
   "outputs": [
    {
     "name": "stdout",
     "output_type": "stream",
     "text": [
      "Hello world I am Ram. I am from KAth. I am 32\n",
      "Hello I am from KAth. My name is Ram\n"
     ]
    }
   ],
   "source": [
    "class Info:\n",
    "    def __init__(self,add):\n",
    "        self.add = add\n",
    "    def ad(self):\n",
    "        print(f\"Hello I am from {self.add}. My name is {self.name}\")\n",
    "        \n",
    "class Org:\n",
    "    def __init__(self,age):\n",
    "        self.age = age\n",
    "    \n",
    "\n",
    "class Data(Org,Info):\n",
    "    def __init__ (self,name,age,add):\n",
    "        self.name = name\n",
    "        Org.__init__(self,age)\n",
    "        Info.__init__(self,add)\n",
    "    def data(self):\n",
    "        print(f\"Hello world I am {self.name}. I am from {self.add}. I am {self.age}\")\n",
    "        \n",
    "obj = Data(\"Ram\",32,\"KAth\")\n",
    "obj.data()\n",
    "obj.ad()"
   ]
  },
  {
   "cell_type": "code",
   "execution_count": 10,
   "id": "b0d826d4",
   "metadata": {},
   "outputs": [
    {
     "name": "stdout",
     "output_type": "stream",
     "text": [
      "Enter name:Arjun\n",
      "Enter age:12\n",
      "Enter adress:Kath\n",
      "Hello world I am Arjun. I am from Kath. I am 12\n",
      "Hello I am from Kath. My name is Arjun\n",
      "Enter age:34\n",
      "Hello I am 34\n"
     ]
    }
   ],
   "source": [
    "class Info:\n",
    "    def __init__(self):\n",
    "        self.add = input(\"Enter adress:\")\n",
    "    def ad(self):\n",
    "        print(f\"Hello I am from {self.add}. My name is {self.name}\")\n",
    "        \n",
    "class Org:\n",
    "    def __init__(self):\n",
    "        self.age = input(\"Enter age:\")\n",
    "    def org(self):\n",
    "        print(f\"Hello I am {self.age}\")\n",
    "\n",
    "class Data(Info,Org):\n",
    "    def __init__ (self):\n",
    "        self.name = input(\"Enter name:\")\n",
    "        Org.__init__(self)\n",
    "        Info.__init__(self)\n",
    "    def data(self):\n",
    "        print(f\"Hello world I am {self.name}. I am from {self.add}. I am {self.age}\")\n",
    "        \n",
    "obj = Data()\n",
    "obj.data()\n",
    "obj.ad()\n",
    "# argument is not needed if the user input is taken.\n",
    "obj1 = Org()\n",
    "obj1.org()"
   ]
  },
  {
   "cell_type": "code",
   "execution_count": 12,
   "id": "a08e3ab6",
   "metadata": {},
   "outputs": [],
   "source": [
    "# try: taking user input all at last:"
   ]
  },
  {
   "cell_type": "code",
   "execution_count": 22,
   "id": "713a3f5b",
   "metadata": {},
   "outputs": [
    {
     "ename": "NameError",
     "evalue": "name 'self' is not defined",
     "output_type": "error",
     "traceback": [
      "\u001b[1;31m---------------------------------------------------------------------------\u001b[0m",
      "\u001b[1;31mNameError\u001b[0m                                 Traceback (most recent call last)",
      "\u001b[1;32m~\\AppData\\Local\\Temp/ipykernel_6120/1932494722.py\u001b[0m in \u001b[0;36m<module>\u001b[1;34m\u001b[0m\n\u001b[0;32m     10\u001b[0m         \u001b[0mprint\u001b[0m\u001b[1;33m(\u001b[0m\u001b[1;34mf\"I am {self.age}\"\u001b[0m\u001b[1;33m)\u001b[0m\u001b[1;33m\u001b[0m\u001b[1;33m\u001b[0m\u001b[0m\n\u001b[0;32m     11\u001b[0m \u001b[1;33m\u001b[0m\u001b[0m\n\u001b[1;32m---> 12\u001b[1;33m \u001b[1;32mclass\u001b[0m \u001b[0mOrg\u001b[0m\u001b[1;33m(\u001b[0m\u001b[0mInfo\u001b[0m\u001b[1;33m,\u001b[0m\u001b[0mData\u001b[0m\u001b[1;33m)\u001b[0m\u001b[1;33m:\u001b[0m\u001b[1;33m\u001b[0m\u001b[1;33m\u001b[0m\u001b[0m\n\u001b[0m\u001b[0;32m     13\u001b[0m     \u001b[1;32mdef\u001b[0m \u001b[0m__init__\u001b[0m\u001b[1;33m(\u001b[0m\u001b[0mself\u001b[0m\u001b[1;33m)\u001b[0m\u001b[1;33m:\u001b[0m\u001b[1;33m\u001b[0m\u001b[1;33m\u001b[0m\u001b[0m\n\u001b[0;32m     14\u001b[0m         \u001b[0mself\u001b[0m\u001b[1;33m.\u001b[0m\u001b[0madd\u001b[0m \u001b[1;33m=\u001b[0m \u001b[0madd\u001b[0m\u001b[1;33m\u001b[0m\u001b[1;33m\u001b[0m\u001b[0m\n",
      "\u001b[1;32m~\\AppData\\Local\\Temp/ipykernel_6120/1932494722.py\u001b[0m in \u001b[0;36mOrg\u001b[1;34m()\u001b[0m\n\u001b[0;32m     15\u001b[0m     \u001b[1;32mdef\u001b[0m \u001b[0madd_p\u001b[0m\u001b[1;33m(\u001b[0m\u001b[1;33m)\u001b[0m\u001b[1;33m:\u001b[0m\u001b[1;33m\u001b[0m\u001b[1;33m\u001b[0m\u001b[0m\n\u001b[0;32m     16\u001b[0m         \u001b[0mprint\u001b[0m\u001b[1;33m(\u001b[0m\u001b[1;34mf\"I am from {self.add}\"\u001b[0m\u001b[1;33m)\u001b[0m\u001b[1;33m\u001b[0m\u001b[1;33m\u001b[0m\u001b[0m\n\u001b[1;32m---> 17\u001b[1;33m     \u001b[0mInfo\u001b[0m\u001b[1;33m.\u001b[0m\u001b[0m__init__\u001b[0m\u001b[1;33m(\u001b[0m\u001b[0mself\u001b[0m\u001b[1;33m)\u001b[0m\u001b[1;33m\u001b[0m\u001b[1;33m\u001b[0m\u001b[0m\n\u001b[0m\u001b[0;32m     18\u001b[0m     \u001b[0mOrg\u001b[0m\u001b[1;33m.\u001b[0m\u001b[0m__init__\u001b[0m\u001b[1;33m(\u001b[0m\u001b[0mself\u001b[0m\u001b[1;33m)\u001b[0m\u001b[1;33m\u001b[0m\u001b[1;33m\u001b[0m\u001b[0m\n\u001b[0;32m     19\u001b[0m     \u001b[1;32mdef\u001b[0m \u001b[0mfinal\u001b[0m\u001b[1;33m(\u001b[0m\u001b[1;33m)\u001b[0m\u001b[1;33m:\u001b[0m\u001b[1;33m\u001b[0m\u001b[1;33m\u001b[0m\u001b[0m\n",
      "\u001b[1;31mNameError\u001b[0m: name 'self' is not defined"
     ]
    }
   ],
   "source": [
    "class Info:\n",
    "    def __init__(self):\n",
    "        self.name = name\n",
    "    def name_p():\n",
    "        print(f\"My name is {self.name}\")\n",
    "class Data:\n",
    "    def __init__(self):\n",
    "        self.age = age\n",
    "    def age_p():\n",
    "        print(f\"I am {self.age}\")\n",
    "        \n",
    "class Org(Info,Data):\n",
    "    def __init__(self):\n",
    "        self.add = add\n",
    "    def add_p():\n",
    "        print(f\"I am from {self.add}\")\n",
    "    Info.__init__(self)\n",
    "    Org.__init__(self)\n",
    "    def final():\n",
    "        print(f\"I am {self.name}. I am from {self.add}. I am {self.age}\")\n",
    "name = input(\"Enter name:\")\n",
    "age = int(input(\"Enter age:\"))\n",
    "add = input(\"Enter address:\")\n",
    "\n",
    "obj = Org(name,age,add)\n",
    "obj.final()\n",
    "\n"
   ]
  },
  {
   "cell_type": "code",
   "execution_count": 19,
   "id": "b3812d1d",
   "metadata": {},
   "outputs": [
    {
     "name": "stdout",
     "output_type": "stream",
     "text": [
      "Ram\n"
     ]
    }
   ],
   "source": [
    "# public members:\n",
    "class Info:\n",
    "    def __init__(self,name,age,add):\n",
    "        self.name = name\n",
    "        self.age = age\n",
    "        self.add = add\n",
    "        \n",
    "obj = Info(\"Ram\",34,\"Kath\")\n",
    "print(obj.name)"
   ]
  },
  {
   "cell_type": "code",
   "execution_count": 21,
   "id": "03713904",
   "metadata": {},
   "outputs": [
    {
     "name": "stdout",
     "output_type": "stream",
     "text": [
      "Ram\n"
     ]
    },
    {
     "ename": "AttributeError",
     "evalue": "'Info' object has no attribute 'age'",
     "output_type": "error",
     "traceback": [
      "\u001b[1;31m---------------------------------------------------------------------------\u001b[0m",
      "\u001b[1;31mAttributeError\u001b[0m                            Traceback (most recent call last)",
      "\u001b[1;32m~\\AppData\\Local\\Temp/ipykernel_6120/3905758808.py\u001b[0m in \u001b[0;36m<module>\u001b[1;34m\u001b[0m\n\u001b[0;32m      8\u001b[0m \u001b[0mobj\u001b[0m \u001b[1;33m=\u001b[0m \u001b[0mInfo\u001b[0m\u001b[1;33m(\u001b[0m\u001b[1;34m\"Ram\"\u001b[0m\u001b[1;33m,\u001b[0m\u001b[1;36m34\u001b[0m\u001b[1;33m,\u001b[0m\u001b[1;34m\"Kath\"\u001b[0m\u001b[1;33m)\u001b[0m\u001b[1;33m\u001b[0m\u001b[1;33m\u001b[0m\u001b[0m\n\u001b[0;32m      9\u001b[0m \u001b[0mprint\u001b[0m\u001b[1;33m(\u001b[0m\u001b[0mobj\u001b[0m\u001b[1;33m.\u001b[0m\u001b[0mname\u001b[0m\u001b[1;33m)\u001b[0m\u001b[1;33m\u001b[0m\u001b[1;33m\u001b[0m\u001b[0m\n\u001b[1;32m---> 10\u001b[1;33m \u001b[0mprint\u001b[0m\u001b[1;33m(\u001b[0m\u001b[0mobj\u001b[0m\u001b[1;33m.\u001b[0m\u001b[0mage\u001b[0m\u001b[1;33m)\u001b[0m\u001b[1;33m\u001b[0m\u001b[1;33m\u001b[0m\u001b[0m\n\u001b[0m\u001b[0;32m     11\u001b[0m \u001b[0mprint\u001b[0m\u001b[1;33m(\u001b[0m\u001b[0mobj\u001b[0m\u001b[1;33m.\u001b[0m\u001b[0madd\u001b[0m\u001b[1;33m)\u001b[0m\u001b[1;33m\u001b[0m\u001b[1;33m\u001b[0m\u001b[0m\n",
      "\u001b[1;31mAttributeError\u001b[0m: 'Info' object has no attribute 'age'"
     ]
    }
   ],
   "source": [
    "# protected members:\n",
    "class Info:\n",
    "    def __init__(self,name,age,add):\n",
    "        self.name = name\n",
    "        self._age = age\n",
    "        self._add = add\n",
    "        \n",
    "obj = Info(\"Ram\",34,\"Kath\")\n",
    "print(obj.name)\n",
    "print(obj.age)\n",
    "print(obj.add)"
   ]
  },
  {
   "cell_type": "code",
   "execution_count": 26,
   "id": "424743bc",
   "metadata": {},
   "outputs": [
    {
     "name": "stdout",
     "output_type": "stream",
     "text": [
      "Ram\n"
     ]
    },
    {
     "ename": "AttributeError",
     "evalue": "'Info' object has no attribute 'add'",
     "output_type": "error",
     "traceback": [
      "\u001b[1;31m---------------------------------------------------------------------------\u001b[0m",
      "\u001b[1;31mAttributeError\u001b[0m                            Traceback (most recent call last)",
      "\u001b[1;32m~\\AppData\\Local\\Temp/ipykernel_6120/1192437082.py\u001b[0m in \u001b[0;36m<module>\u001b[1;34m\u001b[0m\n\u001b[0;32m      9\u001b[0m \u001b[0mobj\u001b[0m \u001b[1;33m=\u001b[0m \u001b[0mInfo\u001b[0m\u001b[1;33m(\u001b[0m\u001b[1;34m\"Ram\"\u001b[0m\u001b[1;33m,\u001b[0m\u001b[1;36m34\u001b[0m\u001b[1;33m,\u001b[0m\u001b[1;34m\"Kath\"\u001b[0m\u001b[1;33m)\u001b[0m\u001b[1;33m\u001b[0m\u001b[1;33m\u001b[0m\u001b[0m\n\u001b[0;32m     10\u001b[0m \u001b[0mprint\u001b[0m\u001b[1;33m(\u001b[0m\u001b[0mobj\u001b[0m\u001b[1;33m.\u001b[0m\u001b[0mname\u001b[0m\u001b[1;33m)\u001b[0m\u001b[1;33m\u001b[0m\u001b[1;33m\u001b[0m\u001b[0m\n\u001b[1;32m---> 11\u001b[1;33m \u001b[0mprint\u001b[0m\u001b[1;33m(\u001b[0m\u001b[0mobj\u001b[0m\u001b[1;33m.\u001b[0m\u001b[0madd\u001b[0m\u001b[1;33m)\u001b[0m\u001b[1;33m\u001b[0m\u001b[1;33m\u001b[0m\u001b[0m\n\u001b[0m",
      "\u001b[1;31mAttributeError\u001b[0m: 'Info' object has no attribute 'add'"
     ]
    }
   ],
   "source": [
    "#private members:\n",
    "\n",
    "class Info:\n",
    "    def __init__(self,name,age,add):\n",
    "        self.name = name\n",
    "        self.age = age\n",
    "        self.__add = add\n",
    "        \n",
    "obj = Info(\"Ram\",34,\"Kath\")\n",
    "print(obj.name)\n",
    "print(obj.add)"
   ]
  },
  {
   "cell_type": "code",
   "execution_count": 2,
   "id": "8fd91e05",
   "metadata": {},
   "outputs": [
    {
     "name": "stdout",
     "output_type": "stream",
     "text": [
      "Name:Arjun\n",
      "Age:34\n",
      "Address:fddsfa\n",
      "Hello I am Arjun. I am from fddsfa\n",
      "None.I am 34\n",
      "Hello I am Arjun. I am from fddsfa\n"
     ]
    }
   ],
   "source": [
    "class Info:\n",
    "    def __init__(self,add):\n",
    "        self.add = add\n",
    "    def ad(self):\n",
    "        print(f\"Hello I am {self.name}. I am from {self.add}\")\n",
    "    \n",
    "class Data(Info):\n",
    "    def __init__(self,name,age,add):\n",
    "        self.name = name\n",
    "        self.age = age\n",
    "        Info.__init__(self,add)\n",
    "    def data(self):\n",
    "              print(f\"{super().ad()}.I am {self.age}\")\n",
    "        \n",
    "name = input(\"Name:\")\n",
    "age = int(input(\"Age:\"))\n",
    "add = input(\"Address:\")\n",
    "              \n",
    "obj = Data(name,age,add)\n",
    "obj.data()\n",
    "obj.ad()"
   ]
  },
  {
   "cell_type": "code",
   "execution_count": null,
   "id": "ce1000cd",
   "metadata": {},
   "outputs": [],
   "source": []
  }
 ],
 "metadata": {
  "kernelspec": {
   "display_name": "Python 3 (ipykernel)",
   "language": "python",
   "name": "python3"
  },
  "language_info": {
   "codemirror_mode": {
    "name": "ipython",
    "version": 3
   },
   "file_extension": ".py",
   "mimetype": "text/x-python",
   "name": "python",
   "nbconvert_exporter": "python",
   "pygments_lexer": "ipython3",
   "version": "3.9.7"
  }
 },
 "nbformat": 4,
 "nbformat_minor": 5
}
