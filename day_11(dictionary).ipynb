{
 "cells": [
  {
   "cell_type": "code",
   "execution_count": 1,
   "id": "d004b2d4",
   "metadata": {},
   "outputs": [],
   "source": [
    "# dictionary\n",
    "# indexed\n",
    "# ordered\n",
    "# multiple data\n",
    "# mutable"
   ]
  },
  {
   "cell_type": "code",
   "execution_count": 6,
   "id": "88dcc029",
   "metadata": {},
   "outputs": [
    {
     "name": "stdout",
     "output_type": "stream",
     "text": [
      "{'a': 'Apple', 'b': 'Ball', 'c': 'Cat'}\n"
     ]
    }
   ],
   "source": [
    "d = dict() # or d ={<key>:<value>,<key>:<value>}\n",
    "d = {'a':'Apple','b':'Ball','c':'Cat'}\n",
    "print(d)"
   ]
  },
  {
   "cell_type": "code",
   "execution_count": 7,
   "id": "69ef4b4f",
   "metadata": {},
   "outputs": [
    {
     "name": "stdout",
     "output_type": "stream",
     "text": [
      "Apple\n",
      "Ball\n",
      "Cat\n"
     ]
    }
   ],
   "source": [
    "print(d['a'])\n",
    "print(d['b'])\n",
    "print(d['c'])"
   ]
  },
  {
   "cell_type": "code",
   "execution_count": 8,
   "id": "3a902b82",
   "metadata": {},
   "outputs": [
    {
     "name": "stdout",
     "output_type": "stream",
     "text": [
      "3\n"
     ]
    }
   ],
   "source": [
    "print(len(d))"
   ]
  },
  {
   "cell_type": "code",
   "execution_count": 9,
   "id": "a30e8f39",
   "metadata": {},
   "outputs": [
    {
     "name": "stdout",
     "output_type": "stream",
     "text": [
      "{'a': 'Ant', 'b': 'Ball', 'c': 'Cat'}\n"
     ]
    }
   ],
   "source": [
    "#mutable\n",
    "d['a'] = 'Ant'\n",
    "print(d)"
   ]
  },
  {
   "cell_type": "code",
   "execution_count": 10,
   "id": "50918181",
   "metadata": {},
   "outputs": [
    {
     "name": "stdout",
     "output_type": "stream",
     "text": [
      "{'a': 'Apple', 'b': 'Ball', 'c': 'Cat', 'A': 'Ant'}\n"
     ]
    }
   ],
   "source": [
    "d = {'a':'Apple','b':'Ball','c':'Cat'}\n",
    "d['A'] = 'Ant'\n",
    "print(d)"
   ]
  },
  {
   "cell_type": "code",
   "execution_count": 11,
   "id": "a030ed32",
   "metadata": {},
   "outputs": [
    {
     "name": "stdout",
     "output_type": "stream",
     "text": [
      "{'a': 'Apple', 'b': 'Ball', 'c': 'Cat', 'd': 'Dog', 'e': 'Egg'}\n"
     ]
    }
   ],
   "source": [
    "d = {}\n",
    "d['a'] = 'Apple'\n",
    "d['b'] = 'Ball'\n",
    "d['c'] = 'Cat'\n",
    "d['d'] = 'Dog'\n",
    "d['e'] = 'Egg'\n",
    "print(d)"
   ]
  },
  {
   "cell_type": "code",
   "execution_count": 12,
   "id": "4d5a48b6",
   "metadata": {},
   "outputs": [
    {
     "name": "stdout",
     "output_type": "stream",
     "text": [
      "Enter the number of data:2\n",
      "Enter name:Arjun\n",
      "Enter phone number:52312543234\n",
      "Enter name:She\n",
      "Enter phone number:21432214\n",
      "{'Arjun': 52312543234, 'She': 21432214}\n"
     ]
    }
   ],
   "source": [
    "d = {}\n",
    "n = int(input(\"Enter the number of data:\"))\n",
    "for i in range(n):\n",
    "    name = input(\"Enter name:\")\n",
    "    phone = int(input(\"Enter phone number:\"))\n",
    "    d[name] = phone\n",
    "print(d)"
   ]
  },
  {
   "cell_type": "code",
   "execution_count": 13,
   "id": "390c1a87",
   "metadata": {},
   "outputs": [
    {
     "name": "stdout",
     "output_type": "stream",
     "text": [
      "Ram\n",
      "Hari\n"
     ]
    }
   ],
   "source": [
    "a = {'Ram': 57348993242,'Hari':3543432543523}\n",
    "for i in a:\n",
    "    print(i) #returns key"
   ]
  },
  {
   "cell_type": "code",
   "execution_count": 14,
   "id": "99ff5c85",
   "metadata": {},
   "outputs": [
    {
     "name": "stdout",
     "output_type": "stream",
     "text": [
      "57348993242\n",
      "3543432543523\n"
     ]
    }
   ],
   "source": [
    "for i in a.values():\n",
    "    print(i) #returns values"
   ]
  },
  {
   "cell_type": "code",
   "execution_count": 15,
   "id": "6ca3be1e",
   "metadata": {},
   "outputs": [
    {
     "name": "stdout",
     "output_type": "stream",
     "text": [
      "('Ram', 57348993242)\n",
      "('Hari', 3543432543523)\n"
     ]
    }
   ],
   "source": [
    "for i in a.items():\n",
    "    print(i)"
   ]
  },
  {
   "cell_type": "code",
   "execution_count": 24,
   "id": "a7435119",
   "metadata": {},
   "outputs": [
    {
     "name": "stdout",
     "output_type": "stream",
     "text": [
      "Ram\n",
      "Hari\n"
     ]
    }
   ],
   "source": [
    "a = {'Ram': 57348993242,'Hari':3543432543523}\n",
    "for i in a.items():\n",
    "    print(i[0])"
   ]
  },
  {
   "cell_type": "code",
   "execution_count": 27,
   "id": "a110d67d",
   "metadata": {},
   "outputs": [
    {
     "ename": "TypeError",
     "evalue": "'dict_items' object is not subscriptable",
     "output_type": "error",
     "traceback": [
      "\u001b[1;31m---------------------------------------------------------------------------\u001b[0m",
      "\u001b[1;31mTypeError\u001b[0m                                 Traceback (most recent call last)",
      "\u001b[1;32m~\\AppData\\Local\\Temp/ipykernel_4520/1110172234.py\u001b[0m in \u001b[0;36m<module>\u001b[1;34m\u001b[0m\n\u001b[0;32m      1\u001b[0m \u001b[0mb\u001b[0m \u001b[1;33m=\u001b[0m \u001b[0ma\u001b[0m\u001b[1;33m.\u001b[0m\u001b[0mitems\u001b[0m\u001b[1;33m(\u001b[0m\u001b[1;33m)\u001b[0m\u001b[1;33m\u001b[0m\u001b[1;33m\u001b[0m\u001b[0m\n\u001b[1;32m----> 2\u001b[1;33m \u001b[0mprint\u001b[0m\u001b[1;33m(\u001b[0m\u001b[0mb\u001b[0m\u001b[1;33m[\u001b[0m\u001b[1;36m0\u001b[0m\u001b[1;33m]\u001b[0m\u001b[1;33m)\u001b[0m\u001b[1;33m\u001b[0m\u001b[1;33m\u001b[0m\u001b[0m\n\u001b[0m",
      "\u001b[1;31mTypeError\u001b[0m: 'dict_items' object is not subscriptable"
     ]
    }
   ],
   "source": [
    "b = a.items()\n",
    "print(b[0])\n"
   ]
  },
  {
   "cell_type": "code",
   "execution_count": 29,
   "id": "c9dc592c",
   "metadata": {},
   "outputs": [
    {
     "data": {
      "text/plain": [
       "{'Ram': 57348993242, 'Hari': 3543432543523}"
      ]
     },
     "execution_count": 29,
     "metadata": {},
     "output_type": "execute_result"
    }
   ],
   "source": [
    "d = [('Ram', 57348993242),('Hari',3543432543523)]\n",
    "dict(d)\n",
    "                        \n"
   ]
  },
  {
   "cell_type": "code",
   "execution_count": 30,
   "id": "e9fcccf8",
   "metadata": {},
   "outputs": [
    {
     "name": "stdout",
     "output_type": "stream",
     "text": [
      "{'Hari': 3543432543523}\n"
     ]
    }
   ],
   "source": [
    "#del pop\n",
    "a = {'Ram': 57348993242,'Hari':3543432543523}\n",
    "del a['Ram']\n",
    "print(a)"
   ]
  },
  {
   "cell_type": "code",
   "execution_count": 31,
   "id": "8cbf129f",
   "metadata": {},
   "outputs": [
    {
     "name": "stdout",
     "output_type": "stream",
     "text": [
      "57348993242\n"
     ]
    }
   ],
   "source": [
    "a = {'Ram': 57348993242,'Hari':3543432543523}\n",
    "b = a.pop('Ram')\n",
    "print(b)"
   ]
  },
  {
   "cell_type": "code",
   "execution_count": 32,
   "id": "a768d636",
   "metadata": {},
   "outputs": [
    {
     "name": "stdout",
     "output_type": "stream",
     "text": [
      "{'Hari': 3543432543523}\n",
      "57348993242\n"
     ]
    }
   ],
   "source": [
    "a = {'Ram': 57348993242,'Hari':3543432543523}\n",
    "b = a.pop('Ram')\n",
    "print(a)\n",
    "print(b)"
   ]
  },
  {
   "cell_type": "code",
   "execution_count": 36,
   "id": "1cab1c96",
   "metadata": {},
   "outputs": [
    {
     "name": "stdout",
     "output_type": "stream",
     "text": [
      "{'Ram': [57348993242, 90786465464], 'Hari': [3543432543523, 789790907]}\n",
      "[57348993242, 90786465464]\n"
     ]
    }
   ],
   "source": [
    "#list inside dictionary\n",
    "a = {'Ram': [57348993242,90786465464],'Hari':[3543432543523,789790907]}\n",
    "print(a)\n",
    "print(a[\"Ram\"])"
   ]
  },
  {
   "cell_type": "code",
   "execution_count": 37,
   "id": "15534995",
   "metadata": {},
   "outputs": [
    {
     "data": {
      "text/plain": [
       "[57348993242, 90786465464]"
      ]
     },
     "execution_count": 37,
     "metadata": {},
     "output_type": "execute_result"
    }
   ],
   "source": [
    "a = {'Ram': [57348993242,90786465464],'Hari':[3543432543523,789790907]}\n",
    "a['Ram']"
   ]
  },
  {
   "cell_type": "code",
   "execution_count": 38,
   "id": "f70e5069",
   "metadata": {},
   "outputs": [
    {
     "name": "stdout",
     "output_type": "stream",
     "text": [
      "{'Ram': [13632528592579, 90786465464], 'Hari': [3543432543523, 789790907]}\n"
     ]
    }
   ],
   "source": [
    "a['Ram'][0] = 13632528592579 #since it is a list, indexation can be done with numbers!!!\n",
    "print(a) "
   ]
  },
  {
   "cell_type": "code",
   "execution_count": 51,
   "id": "01c57307",
   "metadata": {},
   "outputs": [],
   "source": [
    "a['Ram'].append(34567890)\n",
    "a['Hari'].append(956987698456)"
   ]
  },
  {
   "cell_type": "code",
   "execution_count": 42,
   "id": "ebbcade2",
   "metadata": {},
   "outputs": [
    {
     "name": "stdout",
     "output_type": "stream",
     "text": [
      "{'Ram': [13632528592579, 90786465464, 34567890, 34567890], 'Hari': [3543432543523, 789790907, 956987698456]}\n"
     ]
    }
   ],
   "source": [
    "print(a)"
   ]
  },
  {
   "cell_type": "code",
   "execution_count": 46,
   "id": "f78045ef",
   "metadata": {},
   "outputs": [
    {
     "name": "stdout",
     "output_type": "stream",
     "text": [
      "Enter the number of data:2\n",
      "Enter name:hgdsff\n",
      "Enter phone number(ntc):7643326\n",
      "Enter phone number(ncell):8765643\n",
      "Enter name:hfsfhfd\n",
      "Enter phone number(ntc):766463\n",
      "Enter phone number(ncell):23456\n",
      "{'hgdsff': [7643326, 8765643], 'hfsfhfd': [766463, 23456]}\n"
     ]
    }
   ],
   "source": [
    "d = {}\n",
    "n = int(input(\"Enter the number of data:\"))\n",
    "for i in range(n):\n",
    "    name = input(\"Enter name:\")\n",
    "    phone_ntc = int(input(\"Enter phone number(ntc):\"))\n",
    "    phone_ncell = int(input(\"Enter phone number(ncell):\"))\n",
    "    d[name] = [phone_ntc,phone_ncell]\n",
    "print(d)"
   ]
  },
  {
   "cell_type": "code",
   "execution_count": 49,
   "id": "2ca246dc",
   "metadata": {},
   "outputs": [
    {
     "name": "stdout",
     "output_type": "stream",
     "text": [
      "[{'Name': 'Ram', 'ntc': 90979680, 'ncell': 66878878907}, {'Name': 'Hari', 'ntc': 5564652, 'ncell': 568323232}, {'Name': 'Shyam', 'ntc': 4666465, 'ncell': 252661}, {'Name': 'Gita', 'ntc': 124548421, 'ncell': 2131878679}]\n",
      "{'Name': 'Ram', 'ntc': 90979680, 'ncell': 66878878907}\n",
      "Ram\n"
     ]
    }
   ],
   "source": [
    "d = [{'Name':'Ram','ntc':90979680,'ncell':66878878907},\n",
    "    {'Name':'Hari','ntc':5564652,'ncell':568323232},\n",
    "    {'Name':'Shyam','ntc':4666465,'ncell':252661},\n",
    "    {'Name':'Gita','ntc':124548421,'ncell':2131878679}]\n",
    "print(d)\n",
    "print(d[0])\n",
    "print(d[0]['Name'])"
   ]
  },
  {
   "cell_type": "code",
   "execution_count": 55,
   "id": "a1e24642",
   "metadata": {},
   "outputs": [
    {
     "name": "stdout",
     "output_type": "stream",
     "text": [
      "Enter the range:2\n",
      "Enter name:Arjun\n",
      "Enter ncell phone number:9878967065\n",
      "Enter ntc phone number:9860788006\n",
      "Enter name:She\n",
      "Enter ncell phone number:9978999798\n",
      "Enter ntc phone number:98457534\n",
      "[{'Name': 'Arjun', 'Ncell': 9878967065, 'ntc': 9860788006}, {'Name': 'She', 'Ncell': 9978999798, 'ntc': 98457534}]\n"
     ]
    }
   ],
   "source": [
    "l = []\n",
    "n = int(input(\"Enter the range:\"))\n",
    "for i in range(n):\n",
    "    name = input(\"Enter name:\")\n",
    "    ncell = int(input(\"Enter ncell phone number:\"))\n",
    "    ntc = int(input(\"Enter ntc phone number:\"))\n",
    "    data = {'Name':name,'Ncell':ncell,'ntc':ntc}\n",
    "    l.append(data)\n",
    "print(l)"
   ]
  },
  {
   "cell_type": "code",
   "execution_count": 58,
   "id": "4da036dd",
   "metadata": {},
   "outputs": [
    {
     "name": "stdout",
     "output_type": "stream",
     "text": [
      "57348993242\n"
     ]
    }
   ],
   "source": [
    "a = {'Ram': 57348993242,'Hari':3543432543523}\n",
    "print(a['Ram'])"
   ]
  },
  {
   "cell_type": "code",
   "execution_count": null,
   "id": "0d19cbbe",
   "metadata": {},
   "outputs": [],
   "source": [
    "a = {'Name':['Ram',\"Shyam\"]}\n",
    "i = int(input(\"Enter index:\"))\n",
    "print(a['Name'][i])\n",
    "print(a['Age'][i])\n",
    "print(a['Address'][i])"
   ]
  }
 ],
 "metadata": {
  "kernelspec": {
   "display_name": "Python 3 (ipykernel)",
   "language": "python",
   "name": "python3"
  },
  "language_info": {
   "codemirror_mode": {
    "name": "ipython",
    "version": 3
   },
   "file_extension": ".py",
   "mimetype": "text/x-python",
   "name": "python",
   "nbconvert_exporter": "python",
   "pygments_lexer": "ipython3",
   "version": "3.9.7"
  }
 },
 "nbformat": 4,
 "nbformat_minor": 5
}
