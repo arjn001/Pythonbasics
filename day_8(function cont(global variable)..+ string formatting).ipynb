{
 "cells": [
  {
   "cell_type": "code",
   "execution_count": 1,
   "id": "2a7c9212",
   "metadata": {},
   "outputs": [
    {
     "data": {
      "text/plain": [
       "'r'"
      ]
     },
     "execution_count": 1,
     "metadata": {},
     "output_type": "execute_result"
    }
   ],
   "source": [
    "a = \"you are the one\"\n",
    "a[5]"
   ]
  },
  {
   "cell_type": "code",
   "execution_count": 2,
   "id": "04e35525",
   "metadata": {},
   "outputs": [
    {
     "name": "stdout",
     "output_type": "stream",
     "text": [
      "r\n"
     ]
    }
   ],
   "source": [
    "a = \"you are the one\"\n",
    "print(a[5])"
   ]
  },
  {
   "cell_type": "code",
   "execution_count": 4,
   "id": "18cc9b7b",
   "metadata": {},
   "outputs": [
    {
     "name": "stdout",
     "output_type": "stream",
     "text": [
      "she\n",
      "she\n",
      "she\n",
      "\n"
     ]
    }
   ],
   "source": [
    "a = \"she\\n\"\n",
    "print(a*3)"
   ]
  },
  {
   "cell_type": "code",
   "execution_count": 6,
   "id": "87ff22e4",
   "metadata": {},
   "outputs": [
    {
     "name": "stdout",
     "output_type": "stream",
     "text": [
      "she\n",
      "she\n",
      "she\n",
      "\n"
     ]
    }
   ],
   "source": [
    "a = \"she\\n\"\n",
    "print(3*a)"
   ]
  },
  {
   "cell_type": "code",
   "execution_count": 11,
   "id": "b9c7dc16",
   "metadata": {},
   "outputs": [
    {
     "name": "stdout",
     "output_type": "stream",
     "text": [
      "eno eht si ehs\n"
     ]
    }
   ],
   "source": [
    "a = \"she is the one\"\n",
    "b = a[len(a)::-1]\n",
    "print(b)"
   ]
  },
  {
   "cell_type": "code",
   "execution_count": 12,
   "id": "7078df79",
   "metadata": {},
   "outputs": [
    {
     "name": "stdout",
     "output_type": "stream",
     "text": [
      "teeyuae\n"
     ]
    }
   ],
   "source": [
    "a = \"there you are\"\n",
    "print(a[0:len(a):2])"
   ]
  },
  {
   "cell_type": "code",
   "execution_count": 14,
   "id": "93c13755",
   "metadata": {},
   "outputs": [
    {
     "name": "stdout",
     "output_type": "stream",
     "text": [
      "Enter name:Arjun\n",
      "Enter address:Gulmi\n",
      "Enter age:19\n",
      "Hey, I am Arjun. I am from Gulmi. I am 19 years old\n"
     ]
    }
   ],
   "source": [
    "#string formatting\n",
    "name = input(\"Enter name:\")\n",
    "add = input(\"Enter address:\")\n",
    "age = input(\"Enter age:\")\n",
    "\n",
    "c = f\"Hey, I am {name}. I am from {add}. I am {age} years old\"\n",
    "print(c)"
   ]
  },
  {
   "cell_type": "code",
   "execution_count": 16,
   "id": "fee678c4",
   "metadata": {},
   "outputs": [
    {
     "name": "stdout",
     "output_type": "stream",
     "text": [
      "Enter the no. of records:2\n",
      "Enter name:Arjn\n",
      "Enter address:fsd\n",
      "Enter age:3\n",
      "Hey, I am Arjn. I am from fsd. I am 3 years old\n",
      "\n",
      "Enter name:fsdfsd\n",
      "Enter address:sdfd\n",
      "Enter age:334\n",
      "Hey, I am fsdfsd. I am from sdfd. I am 334 years old\n",
      "\n"
     ]
    }
   ],
   "source": [
    "# s = str()\n",
    "n = int(input(\"Enter the no. of records:\"))\n",
    "for i in range(n):\n",
    "    name = input(\"Enter name:\")\n",
    "    add = input(\"Enter address:\")\n",
    "    age = input(\"Enter age:\")\n",
    "    c = f\"Hey, I am {name}. I am from {add}. I am {age} years old\\n\"\n",
    "#     s = s + c\n",
    "    print(c)"
   ]
  },
  {
   "cell_type": "code",
   "execution_count": 21,
   "id": "a06a73da",
   "metadata": {},
   "outputs": [
    {
     "name": "stdout",
     "output_type": "stream",
     "text": [
      "Enter the no. of records:2\n",
      "Enter name:Arjun\n",
      "Enter address:KAthmanddu\n",
      "Enter age:56\n",
      "Enter name:She\n",
      "Enter address:there\n",
      "Enter age:78\n",
      "Hey, I am Arjun. I am from KAthmanddu. I am 56 years old\n",
      "Hey, I am She. I am from there. I am 78 years old\n",
      "\n"
     ]
    }
   ],
   "source": [
    "s = \"\" # or s = \"\"\n",
    "n = int(input(\"Enter the no. of records:\"))\n",
    "for i in range(n):\n",
    "    name = input(\"Enter name:\")\n",
    "    add = input(\"Enter address:\")\n",
    "    age = input(\"Enter age:\")\n",
    "    c = f\"Hey, I am {name}. I am from {add}. I am {age} years old\\n\"\n",
    "    s = s + c\n",
    "print(s)"
   ]
  },
  {
   "cell_type": "code",
   "execution_count": 2,
   "id": "60579567",
   "metadata": {},
   "outputs": [
    {
     "name": "stdout",
     "output_type": "stream",
     "text": [
      "Enter name:Aufds\n",
      "Enter address:fsdfd\n",
      "Enter age:67\n",
      "Enter 'y' for more records:y\n",
      "Enter name:ssfds\n",
      "Enter address:ddgfh\n",
      "Enter age:35\n",
      "Enter 'y' for more records:hfs\n",
      "Hey, I am Aufds. I am from fsdfd. I am 67 years old\n",
      "Hey, I am ssfds. I am from ddgfh. I am 35 years old\n",
      "\n"
     ]
    }
   ],
   "source": [
    "s = \"\"\n",
    "def record():\n",
    "        global s \n",
    "        name = input(\"Enter name:\")\n",
    "        add = input(\"Enter address:\")\n",
    "        age = input(\"Enter age:\")\n",
    "        c = f\"Hey, I am {name}. I am from {add}. I am {age} years old\\n\"\n",
    "        s = s + c\n",
    "#         print(s)\n",
    "        x = input(\"Enter 'y' for more records:\")\n",
    "        if x == 'y':\n",
    "            record()\n",
    "            \n",
    "            \n",
    "record()\n",
    "print(s)\n",
    "#prints all the result at last. since, print function is defined outside the function."
   ]
  },
  {
   "cell_type": "code",
   "execution_count": 3,
   "id": "bed3eeed",
   "metadata": {},
   "outputs": [
    {
     "name": "stdout",
     "output_type": "stream",
     "text": [
      "Enter name:therew\n",
      "Enter address:gdfd\n",
      "Enter age:67\n",
      "Hey, I am therew. I am from gdfd. I am 67 years old\n",
      "\n",
      "Enter 'y' for more records:y\n",
      "Enter name:fdsdgd\n",
      "Enter address:gdfdgdsf\n",
      "Enter age:56\n",
      "Hey, I am therew. I am from gdfd. I am 67 years old\n",
      "Hey, I am fdsdgd. I am from gdfdgdsf. I am 56 years old\n",
      "\n",
      "Enter 'y' for more records:hh\n"
     ]
    }
   ],
   "source": [
    "s = \"\"\n",
    "def record():\n",
    "        global s \n",
    "        name = input(\"Enter name:\")\n",
    "        add = input(\"Enter address:\")\n",
    "        age = input(\"Enter age:\")\n",
    "        c = f\"Hey, I am {name}. I am from {add}. I am {age} years old\\n\"\n",
    "        s = s + c\n",
    "        print(s)\n",
    "        x = input(\"Enter 'y' for more records:\")\n",
    "        if x == 'y':\n",
    "            record()\n",
    "            \n",
    "            \n",
    "record()\n",
    "# print(s)\n",
    "#prints the result inititally since the print function is defined inside the function.  "
   ]
  },
  {
   "cell_type": "code",
   "execution_count": null,
   "id": "9e87cb59",
   "metadata": {},
   "outputs": [],
   "source": []
  }
 ],
 "metadata": {
  "kernelspec": {
   "display_name": "Python 3 (ipykernel)",
   "language": "python",
   "name": "python3"
  },
  "language_info": {
   "codemirror_mode": {
    "name": "ipython",
    "version": 3
   },
   "file_extension": ".py",
   "mimetype": "text/x-python",
   "name": "python",
   "nbconvert_exporter": "python",
   "pygments_lexer": "ipython3",
   "version": "3.9.7"
  }
 },
 "nbformat": 4,
 "nbformat_minor": 5
}
