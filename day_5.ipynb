{
 "cells": [
  {
   "cell_type": "code",
   "execution_count": 1,
   "id": "fa600100",
   "metadata": {},
   "outputs": [],
   "source": [
    "#while loop"
   ]
  },
  {
   "cell_type": "code",
   "execution_count": 2,
   "id": "e6b505dc",
   "metadata": {},
   "outputs": [],
   "source": [
    "# while <condition>:\n",
    "# #     <operation>"
   ]
  },
  {
   "cell_type": "code",
   "execution_count": 6,
   "id": "f6cf55e8",
   "metadata": {},
   "outputs": [
    {
     "name": "stdout",
     "output_type": "stream",
     "text": [
      "0 She\n",
      "1 She\n",
      "2 She\n",
      "3 She\n",
      "4 She\n"
     ]
    }
   ],
   "source": [
    "a = 0\n",
    "while a < 5:\n",
    "    print(a,\"She\")\n",
    "    a = a + 1"
   ]
  },
  {
   "cell_type": "code",
   "execution_count": 7,
   "id": "27530bff",
   "metadata": {},
   "outputs": [
    {
     "name": "stdout",
     "output_type": "stream",
     "text": [
      "5 She\n",
      "4 She\n",
      "3 She\n",
      "2 She\n",
      "1 She\n",
      "0 She\n"
     ]
    }
   ],
   "source": [
    "a = 5\n",
    "while a >= 0:\n",
    "    print(a,\"She\")\n",
    "    a = a - 1"
   ]
  },
  {
   "cell_type": "code",
   "execution_count": 10,
   "id": "bb1287cc",
   "metadata": {},
   "outputs": [
    {
     "name": "stdout",
     "output_type": "stream",
     "text": [
      "Enter a number:5\n",
      "5 X 1 = 5\n",
      "5 X 2 = 10\n",
      "5 X 3 = 15\n",
      "5 X 4 = 20\n",
      "5 X 5 = 25\n",
      "5 X 6 = 30\n",
      "5 X 7 = 35\n",
      "5 X 8 = 40\n",
      "5 X 9 = 45\n",
      "5 X 10 = 50\n"
     ]
    }
   ],
   "source": [
    "a = 1\n",
    "n = int(input(\"Enter a number:\"))\n",
    "while a<=10:\n",
    "    print(n,\"X\",a,\"=\",n*a)\n",
    "    a = a + 1"
   ]
  },
  {
   "cell_type": "code",
   "execution_count": 1,
   "id": "caa566be",
   "metadata": {},
   "outputs": [
    {
     "name": "stdout",
     "output_type": "stream",
     "text": [
      "Enter a number:5\n",
      "Enter break point3\n",
      "5 X 1 = 5\n",
      "5 X 2 = 10\n",
      "5 X 3 = 15\n"
     ]
    }
   ],
   "source": [
    "n = int(input(\"Enter a number:\"))\n",
    "b = int(input(\"Enter break point\"))\n",
    "a = 1\n",
    "while a<=b:\n",
    "    print(n,\"X\",a,\"=\",a*n)\n",
    "    a+=1\n",
    "  "
   ]
  },
  {
   "cell_type": "code",
   "execution_count": 1,
   "id": "524ae7cc",
   "metadata": {},
   "outputs": [
    {
     "name": "stdout",
     "output_type": "stream",
     "text": [
      "Enter a number:2\n",
      "Enter x =1\n",
      "Enter x =2\n",
      "3\n"
     ]
    }
   ],
   "source": [
    "s = 0 \n",
    "a = 0\n",
    "n = int(input(\"Enter a number:\"))\n",
    "while a <n:\n",
    "    x = int(input(\"Enter x =\"))\n",
    "    s = s + x\n",
    "    a+=1\n",
    "print(s)"
   ]
  },
  {
   "cell_type": "code",
   "execution_count": 5,
   "id": "b3dde62a",
   "metadata": {},
   "outputs": [
    {
     "name": "stdout",
     "output_type": "stream",
     "text": [
      "Enter a number:5\n",
      "120\n"
     ]
    }
   ],
   "source": [
    "fac = 1\n",
    "a = 1\n",
    "b = int(input(\"Enter a number:\"))\n",
    "while a<=b:\n",
    "    fac = fac * a\n",
    "    a = a + 1 \n",
    "print(fac)"
   ]
  },
  {
   "cell_type": "code",
   "execution_count": 3,
   "id": "106bffe5",
   "metadata": {},
   "outputs": [
    {
     "name": "stdout",
     "output_type": "stream",
     "text": [
      "t\n",
      "o\n",
      "m\n",
      "o\n",
      "r\n",
      "r\n",
      "o\n",
      "w\n"
     ]
    }
   ],
   "source": [
    "a = \"tomorrow\"\n",
    "l = len(a)\n",
    "i = 0\n",
    "while i<l:\n",
    "    print(a[i])\n",
    "    i = i + 1"
   ]
  },
  {
   "cell_type": "code",
   "execution_count": 4,
   "id": "b5710f30",
   "metadata": {},
   "outputs": [
    {
     "name": "stdout",
     "output_type": "stream",
     "text": [
      "tomorrow"
     ]
    }
   ],
   "source": [
    "a = \"tomorrow\"\n",
    "l = len(a)\n",
    "i = 0\n",
    "while i<l:\n",
    "    print(a[i],end=\"\")\n",
    "    i = i + 1"
   ]
  },
  {
   "cell_type": "code",
   "execution_count": 10,
   "id": "498e4dfd",
   "metadata": {},
   "outputs": [
    {
     "name": "stdout",
     "output_type": "stream",
     "text": [
      "todayistheday"
     ]
    }
   ],
   "source": [
    "a = \"today is the day\"\n",
    "l = len(a)\n",
    "i = 0\n",
    "while i<l:\n",
    "    if a[i] != \" \":\n",
    "        print(a[i],end=\"\")\n",
    "    i = i + 1"
   ]
  },
  {
   "cell_type": "code",
   "execution_count": null,
   "id": "0f229ca7",
   "metadata": {},
   "outputs": [],
   "source": []
  }
 ],
 "metadata": {
  "kernelspec": {
   "display_name": "Python 3 (ipykernel)",
   "language": "python",
   "name": "python3"
  },
  "language_info": {
   "codemirror_mode": {
    "name": "ipython",
    "version": 3
   },
   "file_extension": ".py",
   "mimetype": "text/x-python",
   "name": "python",
   "nbconvert_exporter": "python",
   "pygments_lexer": "ipython3",
   "version": "3.9.7"
  }
 },
 "nbformat": 4,
 "nbformat_minor": 5
}
